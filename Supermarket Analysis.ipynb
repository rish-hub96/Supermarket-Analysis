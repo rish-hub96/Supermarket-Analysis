{
 "cells": [
  {
   "cell_type": "markdown",
   "id": "0f3a598f",
   "metadata": {},
   "source": [
    "## Details\n",
    "* Name : Tanmoy Ghosh/Arijit Guha Biswas\n",
    "* Group details : 17\n",
    "* Dataset: Super Market Data Set"
   ]
  },
  {
   "cell_type": "markdown",
   "id": "5b09ff64",
   "metadata": {},
   "source": [
    "# SUPER MARKET DATA SET ANALYSIS"
   ]
  },
  {
   "cell_type": "markdown",
   "id": "b303bf9c",
   "metadata": {},
   "source": [
    "### 1. Import Libraries/Dataset"
   ]
  },
  {
   "cell_type": "code",
   "execution_count": 112,
   "id": "5ceb2bfb",
   "metadata": {},
   "outputs": [],
   "source": [
    "import pandas as pd\n",
    "from datetime import datetime\n",
    "import datetime\n",
    "pd.set_option('display.expand_frame_repr', False)\n",
    "pd.options.display.max_colwidth=1000\n",
    "import matplotlib\n",
    "import matplotlib.pyplot as plt\n",
    "import seaborn as sns\n",
    "import matplotlib.ticker as ticker\n",
    "from sklearn import preprocessing\n",
    "from sklearn.preprocessing import StandardScaler\n",
    "from sklearn.preprocessing import MinMaxScaler\n",
    "from sklearn.metrics import f1_score, confusion_matrix\n",
    "from sklearn import ensemble\n",
    "import numpy as np\n",
    "from sklearn.model_selection import train_test_split, cross_val_score, GridSearchCV\n",
    "from sklearn.preprocessing import LabelEncoder\n",
    "import joblib"
   ]
  },
  {
   "cell_type": "code",
   "execution_count": 113,
   "id": "1b0ff540",
   "metadata": {},
   "outputs": [],
   "source": [
    "data_df=pd.read_csv('Supermarket_Sales_Dataset.csv',delimiter=',')"
   ]
  },
  {
   "cell_type": "code",
   "execution_count": 114,
   "id": "1cc4361a",
   "metadata": {},
   "outputs": [
    {
     "name": "stdout",
     "output_type": "stream",
     "text": [
      "(1000, 17)\n",
      "_ _ _ _ _ _ _ _ _ _ _ _ _ _ _ _ _ _ _ _ _ _ _ _ _ _ _ _ _ _ _ _ _ _ _ _ _ _ _ _ _ _ _ _ _ _ _ _ _ _ \n",
      "   index   Invoice ID Branch       City Customer Type  Gender            Product Type  Unit Price  Quantity     Tax   Selling Price       Date   Time Payment Type  Cost Price  Gross Income  Rating\n",
      "0      0  750-67-8428      A  Bangalore        Member  Female       Health and beauty       74.69         7  26.1415       548.9715   1/5/2019  13:08   Debit card      522.83       26.1415     9.1\n",
      "1      1  226-31-3081      C     Mysore        Normal  Female  Electronic accessories       15.28         5   3.8200        80.2200   3/8/2019  10:29         Cash       76.40        3.8200     9.6\n",
      "2      2  631-41-3108      A  Bangalore        Normal    Male      Home and lifestyle       46.33         7  16.2155       340.5255   3/3/2019  13:23  Credit card      324.31       16.2155     7.4\n",
      "3      3  123-19-1176      A  Bangalore        Member    Male       Health and beauty       58.22         8  23.2880       489.0480  1/27/2019  20:33   Debit card      465.76       23.2880     8.4\n",
      "4      4  373-73-7910      A  Bangalore        Normal    Male       Sports and travel       86.31         7  30.2085       634.3785   2/8/2019  10:37   Debit card      604.17       30.2085     5.3\n",
      "_ _ _ _ _ _ _ _ _ _ _ _ _ _ _ _ _ _ _ _ _ _ _ _ _ _ _ _ _ _ _ _ _ _ _ _ _ _ _ _ _ _ _ _ _ _ _ _ _ _ \n"
     ]
    }
   ],
   "source": [
    "data_df.reset_index(inplace=True)\n",
    "col_names = list(data_df.columns)\n",
    "print(data_df.shape)\n",
    "print('_ '*50)\n",
    "print(data_df.head())\n",
    "print('_ '*50)"
   ]
  },
  {
   "cell_type": "markdown",
   "id": "4ab882cb",
   "metadata": {},
   "source": [
    "## 2. Data Visualization and Exploration"
   ]
  },
  {
   "cell_type": "markdown",
   "id": "be5a5aa7",
   "metadata": {},
   "source": [
    "print(data_df.describe())\n",
    "print('_ '*50)"
   ]
  },
  {
   "cell_type": "code",
   "execution_count": 115,
   "id": "69600319",
   "metadata": {},
   "outputs": [
    {
     "name": "stdout",
     "output_type": "stream",
     "text": [
      "<class 'pandas.core.frame.DataFrame'>\n",
      "RangeIndex: 1000 entries, 0 to 999\n",
      "Data columns (total 17 columns):\n",
      " #   Column         Non-Null Count  Dtype  \n",
      "---  ------         --------------  -----  \n",
      " 0   index          1000 non-null   int64  \n",
      " 1   Invoice ID     1000 non-null   object \n",
      " 2   Branch         1000 non-null   object \n",
      " 3   City           1000 non-null   object \n",
      " 4   Customer Type  1000 non-null   object \n",
      " 5   Gender         1000 non-null   object \n",
      " 6   Product Type   1000 non-null   object \n",
      " 7   Unit Price     1000 non-null   float64\n",
      " 8   Quantity       1000 non-null   int64  \n",
      " 9   Tax            1000 non-null   float64\n",
      " 10  Selling Price  1000 non-null   float64\n",
      " 11  Date           1000 non-null   object \n",
      " 12  Time           1000 non-null   object \n",
      " 13  Payment Type   1000 non-null   object \n",
      " 14  Cost Price     1000 non-null   float64\n",
      " 15  Gross Income   1000 non-null   float64\n",
      " 16  Rating         1000 non-null   float64\n",
      "dtypes: float64(6), int64(2), object(9)\n",
      "memory usage: 132.9+ KB\n",
      "None\n"
     ]
    }
   ],
   "source": [
    "print(data_df.info())"
   ]
  },
  {
   "cell_type": "markdown",
   "id": "c5132b3d",
   "metadata": {},
   "source": [
    "<b>Null value counts against each column<b/>"
   ]
  },
  {
   "cell_type": "code",
   "execution_count": 116,
   "id": "b1ce3c91",
   "metadata": {},
   "outputs": [
    {
     "data": {
      "text/plain": [
       "index            0\n",
       "Invoice ID       0\n",
       "Branch           0\n",
       "City             0\n",
       "Customer Type    0\n",
       "Gender           0\n",
       "Product Type     0\n",
       "Unit Price       0\n",
       "Quantity         0\n",
       "Tax              0\n",
       "Selling Price    0\n",
       "Date             0\n",
       "Time             0\n",
       "Payment Type     0\n",
       "Cost Price       0\n",
       "Gross Income     0\n",
       "Rating           0\n",
       "dtype: int64"
      ]
     },
     "execution_count": 116,
     "metadata": {},
     "output_type": "execute_result"
    }
   ],
   "source": [
    "data_df.isnull().sum()"
   ]
  },
  {
   "cell_type": "code",
   "execution_count": 117,
   "id": "26401942",
   "metadata": {},
   "outputs": [
    {
     "name": "stdout",
     "output_type": "stream",
     "text": [
      "(1000, 17)\n"
     ]
    }
   ],
   "source": [
    "data_df=data_df.drop_duplicates()\n",
    "print(data_df.shape)"
   ]
  },
  {
   "cell_type": "code",
   "execution_count": 118,
   "id": "421b832e",
   "metadata": {},
   "outputs": [
    {
     "data": {
      "text/plain": [
       "index            1000\n",
       "Invoice ID       1000\n",
       "Branch              3\n",
       "City                3\n",
       "Customer Type       2\n",
       "Gender              2\n",
       "Product Type        6\n",
       "Unit Price        943\n",
       "Quantity           10\n",
       "Tax               990\n",
       "Selling Price     990\n",
       "Date               89\n",
       "Time              506\n",
       "Payment Type        3\n",
       "Cost Price        990\n",
       "Gross Income      990\n",
       "Rating             61\n",
       "dtype: int64"
      ]
     },
     "execution_count": 118,
     "metadata": {},
     "output_type": "execute_result"
    }
   ],
   "source": [
    "data_df.nunique()"
   ]
  },
  {
   "cell_type": "markdown",
   "id": "91ae162e",
   "metadata": {},
   "source": [
    "<b>Histogram plot<b/>"
   ]
  },
  {
   "cell_type": "code",
   "execution_count": 119,
   "id": "7e2670b8",
   "metadata": {},
   "outputs": [
    {
     "data": {
      "image/png": "[encoded data removed]",
      "text/plain": [
       "<Figure size 432x288 with 9 Axes>"
      ]
     },
     "metadata": {
      "needs_background": "light"
     },
     "output_type": "display_data"
    }
   ],
   "source": [
    "data_df.hist()\n",
    "plt.show()"
   ]
  },
  {
   "cell_type": "markdown",
   "id": "4f750450",
   "metadata": {},
   "source": [
    "<b>Descriptive Analysis on data<b/>"
   ]
  },
  {
   "cell_type": "code",
   "execution_count": 120,
   "id": "a9a4805f",
   "metadata": {},
   "outputs": [
    {
     "data": {
      "text/html": [
       "<div>\n",
       "<style scoped>\n",
       "    .dataframe tbody tr th:only-of-type {\n",
       "        vertical-align: middle;\n",
       "    }\n",
       "\n",
       "    .dataframe tbody tr th {\n",
       "        vertical-align: top;\n",
       "    }\n",
       "\n",
       "    .dataframe thead th {\n",
       "        text-align: right;\n",
       "    }\n",
       "</style>\n",
       "<table border=\"1\" class=\"dataframe\">\n",
       "  <thead>\n",
       "    <tr style=\"text-align: right;\">\n",
       "      <th></th>\n",
       "      <th>count</th>\n",
       "      <th>mean</th>\n",
       "      <th>std</th>\n",
       "      <th>min</th>\n",
       "      <th>25%</th>\n",
       "      <th>50%</th>\n",
       "      <th>75%</th>\n",
       "      <th>max</th>\n",
       "    </tr>\n",
       "  </thead>\n",
       "  <tbody>\n",
       "    <tr>\n",
       "      <th>index</th>\n",
       "      <td>1000.0</td>\n",
       "      <td>499.500000</td>\n",
       "      <td>288.819436</td>\n",
       "      <td>0.0000</td>\n",
       "      <td>249.750000</td>\n",
       "      <td>499.500</td>\n",
       "      <td>749.25000</td>\n",
       "      <td>999.00</td>\n",
       "    </tr>\n",
       "    <tr>\n",
       "      <th>Unit Price</th>\n",
       "      <td>1000.0</td>\n",
       "      <td>55.672130</td>\n",
       "      <td>26.494628</td>\n",
       "      <td>10.0800</td>\n",
       "      <td>32.875000</td>\n",
       "      <td>55.230</td>\n",
       "      <td>77.93500</td>\n",
       "      <td>99.96</td>\n",
       "    </tr>\n",
       "    <tr>\n",
       "      <th>Quantity</th>\n",
       "      <td>1000.0</td>\n",
       "      <td>5.510000</td>\n",
       "      <td>2.923431</td>\n",
       "      <td>1.0000</td>\n",
       "      <td>3.000000</td>\n",
       "      <td>5.000</td>\n",
       "      <td>8.00000</td>\n",
       "      <td>10.00</td>\n",
       "    </tr>\n",
       "    <tr>\n",
       "      <th>Tax</th>\n",
       "      <td>1000.0</td>\n",
       "      <td>15.379369</td>\n",
       "      <td>11.708825</td>\n",
       "      <td>0.5085</td>\n",
       "      <td>5.924875</td>\n",
       "      <td>12.088</td>\n",
       "      <td>22.44525</td>\n",
       "      <td>49.65</td>\n",
       "    </tr>\n",
       "    <tr>\n",
       "      <th>Selling Price</th>\n",
       "      <td>1000.0</td>\n",
       "      <td>322.966749</td>\n",
       "      <td>245.885335</td>\n",
       "      <td>10.6785</td>\n",
       "      <td>124.422375</td>\n",
       "      <td>253.848</td>\n",
       "      <td>471.35025</td>\n",
       "      <td>1042.65</td>\n",
       "    </tr>\n",
       "    <tr>\n",
       "      <th>Cost Price</th>\n",
       "      <td>1000.0</td>\n",
       "      <td>307.587380</td>\n",
       "      <td>234.176510</td>\n",
       "      <td>10.1700</td>\n",
       "      <td>118.497500</td>\n",
       "      <td>241.760</td>\n",
       "      <td>448.90500</td>\n",
       "      <td>993.00</td>\n",
       "    </tr>\n",
       "    <tr>\n",
       "      <th>Gross Income</th>\n",
       "      <td>1000.0</td>\n",
       "      <td>15.379369</td>\n",
       "      <td>11.708825</td>\n",
       "      <td>0.5085</td>\n",
       "      <td>5.924875</td>\n",
       "      <td>12.088</td>\n",
       "      <td>22.44525</td>\n",
       "      <td>49.65</td>\n",
       "    </tr>\n",
       "    <tr>\n",
       "      <th>Rating</th>\n",
       "      <td>1000.0</td>\n",
       "      <td>6.972700</td>\n",
       "      <td>1.718580</td>\n",
       "      <td>4.0000</td>\n",
       "      <td>5.500000</td>\n",
       "      <td>7.000</td>\n",
       "      <td>8.50000</td>\n",
       "      <td>10.00</td>\n",
       "    </tr>\n",
       "  </tbody>\n",
       "</table>\n",
       "</div>"
      ],
      "text/plain": [
       "                count        mean         std      min         25%      50%        75%      max\n",
       "index          1000.0  499.500000  288.819436   0.0000  249.750000  499.500  749.25000   999.00\n",
       "Unit Price     1000.0   55.672130   26.494628  10.0800   32.875000   55.230   77.93500    99.96\n",
       "Quantity       1000.0    5.510000    2.923431   1.0000    3.000000    5.000    8.00000    10.00\n",
       "Tax            1000.0   15.379369   11.708825   0.5085    5.924875   12.088   22.44525    49.65\n",
       "Selling Price  1000.0  322.966749  245.885335  10.6785  124.422375  253.848  471.35025  1042.65\n",
       "Cost Price     1000.0  307.587380  234.176510  10.1700  118.497500  241.760  448.90500   993.00\n",
       "Gross Income   1000.0   15.379369   11.708825   0.5085    5.924875   12.088   22.44525    49.65\n",
       "Rating         1000.0    6.972700    1.718580   4.0000    5.500000    7.000    8.50000    10.00"
      ]
     },
     "execution_count": 120,
     "metadata": {},
     "output_type": "execute_result"
    }
   ],
   "source": [
    "data_df.describe().T"
   ]
  },
  {
   "cell_type": "code",
   "execution_count": 121,
   "id": "5e32298c",
   "metadata": {},
   "outputs": [
    {
     "name": "stdout",
     "output_type": "stream",
     "text": [
      "Branch\n",
      "  Branch  size\n",
      "0      A   340\n",
      "1      B   332\n",
      "2      C   328\n",
      "City\n",
      "        City  size\n",
      "0  Bangalore   340\n",
      "1  Mangalore   332\n",
      "2     Mysore   328\n",
      "Customer Type\n",
      "  Customer Type  size\n",
      "0        Member   501\n",
      "1        Normal   499\n",
      "Gender\n",
      "   Gender  size\n",
      "0  Female   501\n",
      "1    Male   499\n",
      "Product Type\n",
      "             Product Type  size\n",
      "0  Electronic accessories   170\n",
      "1     Fashion accessories   178\n",
      "2      Food and beverages   174\n",
      "3       Health and beauty   152\n",
      "4      Home and lifestyle   160\n",
      "Unit Price\n",
      "   Unit Price  size\n",
      "0       10.08     1\n",
      "1       10.13     1\n",
      "2       10.16     1\n",
      "3       10.17     1\n",
      "4       10.18     1\n",
      "Quantity\n",
      "   Quantity  size\n",
      "0         1   112\n",
      "1         2    91\n",
      "2         3    90\n",
      "3         4   109\n",
      "4         5   102\n",
      "Tax \n",
      "     Tax   size\n",
      "0  0.5085     1\n",
      "1  0.6045     1\n",
      "2  0.6270     1\n",
      "3  0.6390     1\n",
      "4  0.6990     1\n",
      "Selling Price\n",
      "   Selling Price  size\n",
      "0        10.6785     1\n",
      "1        12.6945     1\n",
      "2        13.1670     1\n",
      "3        13.4190     1\n",
      "4        14.6790     1\n",
      "Date\n",
      "        Date  size\n",
      "0   1/1/2019    12\n",
      "1  1/10/2019     9\n",
      "2  1/11/2019     8\n",
      "3  1/12/2019    11\n",
      "4  1/13/2019    10\n",
      "Time\n",
      "    Time  size\n",
      "0  10:00     3\n",
      "1  10:01     2\n",
      "2  10:02     3\n",
      "3  10:03     1\n",
      "4  10:04     1\n",
      "Payment Type\n",
      "  Payment Type  size\n",
      "0         Cash   344\n",
      "1  Credit card   311\n",
      "2   Debit card   345\n",
      "Cost Price\n",
      "   Cost Price  size\n",
      "0       10.17     1\n",
      "1       12.09     1\n",
      "2       12.54     1\n",
      "3       12.78     1\n",
      "4       13.98     1\n",
      "Gross Income\n",
      "   Gross Income  size\n",
      "0        0.5085     1\n",
      "1        0.6045     1\n",
      "2        0.6270     1\n",
      "3        0.6390     1\n",
      "4        0.6990     1\n",
      "Rating\n",
      "   Rating  size\n",
      "0     4.0    11\n",
      "1     4.1    17\n",
      "2     4.2    22\n",
      "3     4.3    18\n",
      "4     4.4    17\n"
     ]
    }
   ],
   "source": [
    "for i, val in enumerate(col_names[2:]):\n",
    "    print (val)\n",
    "    print(data_df.groupby([val], dropna=False, as_index=False).size().head())"
   ]
  },
  {
   "cell_type": "markdown",
   "id": "d0c7a2b8",
   "metadata": {},
   "source": [
    "<b>Correlation matrix<b/>"
   ]
  },
  {
   "cell_type": "code",
   "execution_count": 122,
   "id": "65ab1115",
   "metadata": {},
   "outputs": [
    {
     "data": {
      "text/html": [
       "<div>\n",
       "<style scoped>\n",
       "    .dataframe tbody tr th:only-of-type {\n",
       "        vertical-align: middle;\n",
       "    }\n",
       "\n",
       "    .dataframe tbody tr th {\n",
       "        vertical-align: top;\n",
       "    }\n",
       "\n",
       "    .dataframe thead th {\n",
       "        text-align: right;\n",
       "    }\n",
       "</style>\n",
       "<table border=\"1\" class=\"dataframe\">\n",
       "  <thead>\n",
       "    <tr style=\"text-align: right;\">\n",
       "      <th></th>\n",
       "      <th>index</th>\n",
       "      <th>Unit Price</th>\n",
       "      <th>Quantity</th>\n",
       "      <th>Tax</th>\n",
       "      <th>Selling Price</th>\n",
       "      <th>Cost Price</th>\n",
       "      <th>Gross Income</th>\n",
       "      <th>Rating</th>\n",
       "    </tr>\n",
       "  </thead>\n",
       "  <tbody>\n",
       "    <tr>\n",
       "      <th>index</th>\n",
       "      <td>1.00</td>\n",
       "      <td>-0.00</td>\n",
       "      <td>-0.07</td>\n",
       "      <td>-0.05</td>\n",
       "      <td>-0.05</td>\n",
       "      <td>-0.05</td>\n",
       "      <td>-0.05</td>\n",
       "      <td>-0.03</td>\n",
       "    </tr>\n",
       "    <tr>\n",
       "      <th>Unit Price</th>\n",
       "      <td>-0.00</td>\n",
       "      <td>1.00</td>\n",
       "      <td>0.01</td>\n",
       "      <td>0.63</td>\n",
       "      <td>0.63</td>\n",
       "      <td>0.63</td>\n",
       "      <td>0.63</td>\n",
       "      <td>-0.01</td>\n",
       "    </tr>\n",
       "    <tr>\n",
       "      <th>Quantity</th>\n",
       "      <td>-0.07</td>\n",
       "      <td>0.01</td>\n",
       "      <td>1.00</td>\n",
       "      <td>0.71</td>\n",
       "      <td>0.71</td>\n",
       "      <td>0.71</td>\n",
       "      <td>0.71</td>\n",
       "      <td>-0.02</td>\n",
       "    </tr>\n",
       "    <tr>\n",
       "      <th>Tax</th>\n",
       "      <td>-0.05</td>\n",
       "      <td>0.63</td>\n",
       "      <td>0.71</td>\n",
       "      <td>1.00</td>\n",
       "      <td>1.00</td>\n",
       "      <td>1.00</td>\n",
       "      <td>1.00</td>\n",
       "      <td>-0.04</td>\n",
       "    </tr>\n",
       "    <tr>\n",
       "      <th>Selling Price</th>\n",
       "      <td>-0.05</td>\n",
       "      <td>0.63</td>\n",
       "      <td>0.71</td>\n",
       "      <td>1.00</td>\n",
       "      <td>1.00</td>\n",
       "      <td>1.00</td>\n",
       "      <td>1.00</td>\n",
       "      <td>-0.04</td>\n",
       "    </tr>\n",
       "    <tr>\n",
       "      <th>Cost Price</th>\n",
       "      <td>-0.05</td>\n",
       "      <td>0.63</td>\n",
       "      <td>0.71</td>\n",
       "      <td>1.00</td>\n",
       "      <td>1.00</td>\n",
       "      <td>1.00</td>\n",
       "      <td>1.00</td>\n",
       "      <td>-0.04</td>\n",
       "    </tr>\n",
       "    <tr>\n",
       "      <th>Gross Income</th>\n",
       "      <td>-0.05</td>\n",
       "      <td>0.63</td>\n",
       "      <td>0.71</td>\n",
       "      <td>1.00</td>\n",
       "      <td>1.00</td>\n",
       "      <td>1.00</td>\n",
       "      <td>1.00</td>\n",
       "      <td>-0.04</td>\n",
       "    </tr>\n",
       "    <tr>\n",
       "      <th>Rating</th>\n",
       "      <td>-0.03</td>\n",
       "      <td>-0.01</td>\n",
       "      <td>-0.02</td>\n",
       "      <td>-0.04</td>\n",
       "      <td>-0.04</td>\n",
       "      <td>-0.04</td>\n",
       "      <td>-0.04</td>\n",
       "      <td>1.00</td>\n",
       "    </tr>\n",
       "  </tbody>\n",
       "</table>\n",
       "</div>"
      ],
      "text/plain": [
       "               index  Unit Price  Quantity  Tax   Selling Price  Cost Price  Gross Income  Rating\n",
       "index           1.00       -0.00     -0.07 -0.05          -0.05       -0.05         -0.05   -0.03\n",
       "Unit Price     -0.00        1.00      0.01  0.63           0.63        0.63          0.63   -0.01\n",
       "Quantity       -0.07        0.01      1.00  0.71           0.71        0.71          0.71   -0.02\n",
       "Tax            -0.05        0.63      0.71  1.00           1.00        1.00          1.00   -0.04\n",
       "Selling Price  -0.05        0.63      0.71  1.00           1.00        1.00          1.00   -0.04\n",
       "Cost Price     -0.05        0.63      0.71  1.00           1.00        1.00          1.00   -0.04\n",
       "Gross Income   -0.05        0.63      0.71  1.00           1.00        1.00          1.00   -0.04\n",
       "Rating         -0.03       -0.01     -0.02 -0.04          -0.04       -0.04         -0.04    1.00"
      ]
     },
     "execution_count": 122,
     "metadata": {},
     "output_type": "execute_result"
    }
   ],
   "source": [
    "np.round(data_df.corr(),2)"
   ]
  },
  {
   "cell_type": "markdown",
   "id": "2a2aac7a",
   "metadata": {},
   "source": [
    "<b>Data visualization using heat map<b/>"
   ]
  },
  {
   "cell_type": "code",
   "execution_count": 123,
   "id": "712fc5a2",
   "metadata": {},
   "outputs": [
    {
     "data": {
      "text/plain": [
       "<AxesSubplot:>"
      ]
     },
     "execution_count": 123,
     "metadata": {},
     "output_type": "execute_result"
    },
    {
     "data": {
      "image/png": "[encoded data removed]",
      "text/plain": [
       "<Figure size 1008x576 with 2 Axes>"
      ]
     },
     "metadata": {
      "needs_background": "light"
     },
     "output_type": "display_data"
    }
   ],
   "source": [
    "plt.figure(figsize=(14,8))\n",
    "sns.heatmap(np.round(data_df.corr(),2),annot=True)\n"
   ]
  },
  {
   "cell_type": "code",
   "execution_count": 124,
   "id": "d945f8f6",
   "metadata": {},
   "outputs": [
    {
     "data": {
      "image/png": "[encoded data removed]",
      "text/plain": [
       "<Figure size 432x288 with 1 Axes>"
      ]
     },
     "metadata": {
      "needs_background": "light"
     },
     "output_type": "display_data"
    }
   ],
   "source": [
    "sns.heatmap(data_df.isnull(),yticklabels = False, cbar = False,cmap = 'tab20c_r')\n",
    "plt.title('Missing Data: Training Set')\n",
    "plt.show()"
   ]
  },
  {
   "cell_type": "code",
   "execution_count": 125,
   "id": "d5c0d921",
   "metadata": {},
   "outputs": [],
   "source": [
    "data_df_ELec_Accessories = data_df[data_df['Product Type'] == 'Electronic accessories']"
   ]
  },
  {
   "cell_type": "code",
   "execution_count": 126,
   "id": "1ae69059",
   "metadata": {},
   "outputs": [
    {
     "data": {
      "text/html": [
       "<div>\n",
       "<style scoped>\n",
       "    .dataframe tbody tr th:only-of-type {\n",
       "        vertical-align: middle;\n",
       "    }\n",
       "\n",
       "    .dataframe tbody tr th {\n",
       "        vertical-align: top;\n",
       "    }\n",
       "\n",
       "    .dataframe thead th {\n",
       "        text-align: right;\n",
       "    }\n",
       "</style>\n",
       "<table border=\"1\" class=\"dataframe\">\n",
       "  <thead>\n",
       "    <tr style=\"text-align: right;\">\n",
       "      <th></th>\n",
       "      <th>index</th>\n",
       "      <th>Invoice ID</th>\n",
       "      <th>Branch</th>\n",
       "      <th>City</th>\n",
       "      <th>Customer Type</th>\n",
       "      <th>Gender</th>\n",
       "      <th>Product Type</th>\n",
       "      <th>Unit Price</th>\n",
       "      <th>Quantity</th>\n",
       "      <th>Tax</th>\n",
       "      <th>Selling Price</th>\n",
       "      <th>Date</th>\n",
       "      <th>Time</th>\n",
       "      <th>Payment Type</th>\n",
       "      <th>Cost Price</th>\n",
       "      <th>Gross Income</th>\n",
       "      <th>Rating</th>\n",
       "    </tr>\n",
       "  </thead>\n",
       "  <tbody>\n",
       "    <tr>\n",
       "      <th>1</th>\n",
       "      <td>1</td>\n",
       "      <td>226-31-3081</td>\n",
       "      <td>C</td>\n",
       "      <td>Mysore</td>\n",
       "      <td>Normal</td>\n",
       "      <td>Female</td>\n",
       "      <td>Electronic accessories</td>\n",
       "      <td>15.28</td>\n",
       "      <td>5</td>\n",
       "      <td>3.8200</td>\n",
       "      <td>80.2200</td>\n",
       "      <td>3/8/2019</td>\n",
       "      <td>10:29</td>\n",
       "      <td>Cash</td>\n",
       "      <td>76.40</td>\n",
       "      <td>3.8200</td>\n",
       "      <td>9.6</td>\n",
       "    </tr>\n",
       "    <tr>\n",
       "      <th>5</th>\n",
       "      <td>5</td>\n",
       "      <td>699-14-3026</td>\n",
       "      <td>C</td>\n",
       "      <td>Mysore</td>\n",
       "      <td>Normal</td>\n",
       "      <td>Male</td>\n",
       "      <td>Electronic accessories</td>\n",
       "      <td>85.39</td>\n",
       "      <td>7</td>\n",
       "      <td>29.8865</td>\n",
       "      <td>627.6165</td>\n",
       "      <td>3/25/2019</td>\n",
       "      <td>18:30</td>\n",
       "      <td>Debit card</td>\n",
       "      <td>597.73</td>\n",
       "      <td>29.8865</td>\n",
       "      <td>4.1</td>\n",
       "    </tr>\n",
       "    <tr>\n",
       "      <th>6</th>\n",
       "      <td>6</td>\n",
       "      <td>355-53-5943</td>\n",
       "      <td>A</td>\n",
       "      <td>Bangalore</td>\n",
       "      <td>Member</td>\n",
       "      <td>Female</td>\n",
       "      <td>Electronic accessories</td>\n",
       "      <td>68.84</td>\n",
       "      <td>6</td>\n",
       "      <td>20.6520</td>\n",
       "      <td>433.6920</td>\n",
       "      <td>2/25/2019</td>\n",
       "      <td>14:36</td>\n",
       "      <td>Debit card</td>\n",
       "      <td>413.04</td>\n",
       "      <td>20.6520</td>\n",
       "      <td>5.8</td>\n",
       "    </tr>\n",
       "    <tr>\n",
       "      <th>11</th>\n",
       "      <td>11</td>\n",
       "      <td>529-56-3974</td>\n",
       "      <td>B</td>\n",
       "      <td>Mangalore</td>\n",
       "      <td>Member</td>\n",
       "      <td>Male</td>\n",
       "      <td>Electronic accessories</td>\n",
       "      <td>25.51</td>\n",
       "      <td>4</td>\n",
       "      <td>5.1020</td>\n",
       "      <td>107.1420</td>\n",
       "      <td>3/9/2019</td>\n",
       "      <td>17:03</td>\n",
       "      <td>Cash</td>\n",
       "      <td>102.04</td>\n",
       "      <td>5.1020</td>\n",
       "      <td>6.8</td>\n",
       "    </tr>\n",
       "    <tr>\n",
       "      <th>12</th>\n",
       "      <td>12</td>\n",
       "      <td>365-64-0515</td>\n",
       "      <td>A</td>\n",
       "      <td>Bangalore</td>\n",
       "      <td>Normal</td>\n",
       "      <td>Female</td>\n",
       "      <td>Electronic accessories</td>\n",
       "      <td>46.95</td>\n",
       "      <td>5</td>\n",
       "      <td>11.7375</td>\n",
       "      <td>246.4875</td>\n",
       "      <td>2/12/2019</td>\n",
       "      <td>10:25</td>\n",
       "      <td>Debit card</td>\n",
       "      <td>234.75</td>\n",
       "      <td>11.7375</td>\n",
       "      <td>7.1</td>\n",
       "    </tr>\n",
       "    <tr>\n",
       "      <th>...</th>\n",
       "      <td>...</td>\n",
       "      <td>...</td>\n",
       "      <td>...</td>\n",
       "      <td>...</td>\n",
       "      <td>...</td>\n",
       "      <td>...</td>\n",
       "      <td>...</td>\n",
       "      <td>...</td>\n",
       "      <td>...</td>\n",
       "      <td>...</td>\n",
       "      <td>...</td>\n",
       "      <td>...</td>\n",
       "      <td>...</td>\n",
       "      <td>...</td>\n",
       "      <td>...</td>\n",
       "      <td>...</td>\n",
       "      <td>...</td>\n",
       "    </tr>\n",
       "    <tr>\n",
       "      <th>978</th>\n",
       "      <td>978</td>\n",
       "      <td>156-20-0370</td>\n",
       "      <td>B</td>\n",
       "      <td>Mangalore</td>\n",
       "      <td>Normal</td>\n",
       "      <td>Female</td>\n",
       "      <td>Electronic accessories</td>\n",
       "      <td>25.45</td>\n",
       "      <td>1</td>\n",
       "      <td>1.2725</td>\n",
       "      <td>26.7225</td>\n",
       "      <td>3/10/2019</td>\n",
       "      <td>18:10</td>\n",
       "      <td>Credit card</td>\n",
       "      <td>25.45</td>\n",
       "      <td>1.2725</td>\n",
       "      <td>5.1</td>\n",
       "    </tr>\n",
       "    <tr>\n",
       "      <th>984</th>\n",
       "      <td>984</td>\n",
       "      <td>189-40-5216</td>\n",
       "      <td>C</td>\n",
       "      <td>Mysore</td>\n",
       "      <td>Normal</td>\n",
       "      <td>Male</td>\n",
       "      <td>Electronic accessories</td>\n",
       "      <td>96.37</td>\n",
       "      <td>7</td>\n",
       "      <td>33.7295</td>\n",
       "      <td>708.3195</td>\n",
       "      <td>1/9/2019</td>\n",
       "      <td>11:40</td>\n",
       "      <td>Cash</td>\n",
       "      <td>674.59</td>\n",
       "      <td>33.7295</td>\n",
       "      <td>6.0</td>\n",
       "    </tr>\n",
       "    <tr>\n",
       "      <th>988</th>\n",
       "      <td>988</td>\n",
       "      <td>267-62-7380</td>\n",
       "      <td>C</td>\n",
       "      <td>Mysore</td>\n",
       "      <td>Member</td>\n",
       "      <td>Male</td>\n",
       "      <td>Electronic accessories</td>\n",
       "      <td>82.34</td>\n",
       "      <td>10</td>\n",
       "      <td>41.1700</td>\n",
       "      <td>864.5700</td>\n",
       "      <td>3/29/2019</td>\n",
       "      <td>19:12</td>\n",
       "      <td>Debit card</td>\n",
       "      <td>823.40</td>\n",
       "      <td>41.1700</td>\n",
       "      <td>4.3</td>\n",
       "    </tr>\n",
       "    <tr>\n",
       "      <th>992</th>\n",
       "      <td>992</td>\n",
       "      <td>745-74-0715</td>\n",
       "      <td>A</td>\n",
       "      <td>Bangalore</td>\n",
       "      <td>Normal</td>\n",
       "      <td>Male</td>\n",
       "      <td>Electronic accessories</td>\n",
       "      <td>58.03</td>\n",
       "      <td>2</td>\n",
       "      <td>5.8030</td>\n",
       "      <td>121.8630</td>\n",
       "      <td>3/10/2019</td>\n",
       "      <td>20:46</td>\n",
       "      <td>Debit card</td>\n",
       "      <td>116.06</td>\n",
       "      <td>5.8030</td>\n",
       "      <td>8.8</td>\n",
       "    </tr>\n",
       "    <tr>\n",
       "      <th>994</th>\n",
       "      <td>994</td>\n",
       "      <td>652-49-6720</td>\n",
       "      <td>C</td>\n",
       "      <td>Mysore</td>\n",
       "      <td>Member</td>\n",
       "      <td>Female</td>\n",
       "      <td>Electronic accessories</td>\n",
       "      <td>60.95</td>\n",
       "      <td>1</td>\n",
       "      <td>3.0475</td>\n",
       "      <td>63.9975</td>\n",
       "      <td>2/18/2019</td>\n",
       "      <td>11:40</td>\n",
       "      <td>Debit card</td>\n",
       "      <td>60.95</td>\n",
       "      <td>3.0475</td>\n",
       "      <td>5.9</td>\n",
       "    </tr>\n",
       "  </tbody>\n",
       "</table>\n",
       "<p>170 rows × 17 columns</p>\n",
       "</div>"
      ],
      "text/plain": [
       "     index   Invoice ID Branch       City Customer Type  Gender            Product Type  Unit Price  Quantity     Tax   Selling Price       Date   Time Payment Type  Cost Price  Gross Income  Rating\n",
       "1        1  226-31-3081      C     Mysore        Normal  Female  Electronic accessories       15.28         5   3.8200        80.2200   3/8/2019  10:29         Cash       76.40        3.8200     9.6\n",
       "5        5  699-14-3026      C     Mysore        Normal    Male  Electronic accessories       85.39         7  29.8865       627.6165  3/25/2019  18:30   Debit card      597.73       29.8865     4.1\n",
       "6        6  355-53-5943      A  Bangalore        Member  Female  Electronic accessories       68.84         6  20.6520       433.6920  2/25/2019  14:36   Debit card      413.04       20.6520     5.8\n",
       "11      11  529-56-3974      B  Mangalore        Member    Male  Electronic accessories       25.51         4   5.1020       107.1420   3/9/2019  17:03         Cash      102.04        5.1020     6.8\n",
       "12      12  365-64-0515      A  Bangalore        Normal  Female  Electronic accessories       46.95         5  11.7375       246.4875  2/12/2019  10:25   Debit card      234.75       11.7375     7.1\n",
       "..     ...          ...    ...        ...           ...     ...                     ...         ...       ...      ...            ...        ...    ...          ...         ...           ...     ...\n",
       "978    978  156-20-0370      B  Mangalore        Normal  Female  Electronic accessories       25.45         1   1.2725        26.7225  3/10/2019  18:10  Credit card       25.45        1.2725     5.1\n",
       "984    984  189-40-5216      C     Mysore        Normal    Male  Electronic accessories       96.37         7  33.7295       708.3195   1/9/2019  11:40         Cash      674.59       33.7295     6.0\n",
       "988    988  267-62-7380      C     Mysore        Member    Male  Electronic accessories       82.34        10  41.1700       864.5700  3/29/2019  19:12   Debit card      823.40       41.1700     4.3\n",
       "992    992  745-74-0715      A  Bangalore        Normal    Male  Electronic accessories       58.03         2   5.8030       121.8630  3/10/2019  20:46   Debit card      116.06        5.8030     8.8\n",
       "994    994  652-49-6720      C     Mysore        Member  Female  Electronic accessories       60.95         1   3.0475        63.9975  2/18/2019  11:40   Debit card       60.95        3.0475     5.9\n",
       "\n",
       "[170 rows x 17 columns]"
      ]
     },
     "execution_count": 126,
     "metadata": {},
     "output_type": "execute_result"
    }
   ],
   "source": [
    "data_df_ELec_Accessories"
   ]
  },
  {
   "cell_type": "markdown",
   "id": "5de19aa8",
   "metadata": {},
   "source": [
    "<b>Which city has a better sale for products in the Electronic Accessories product line<b/>"
   ]
  },
  {
   "cell_type": "code",
   "execution_count": 127,
   "id": "2ae49b03",
   "metadata": {},
   "outputs": [
    {
     "data": {
      "text/html": [
       "<div>\n",
       "<style scoped>\n",
       "    .dataframe tbody tr th:only-of-type {\n",
       "        vertical-align: middle;\n",
       "    }\n",
       "\n",
       "    .dataframe tbody tr th {\n",
       "        vertical-align: top;\n",
       "    }\n",
       "\n",
       "    .dataframe thead th {\n",
       "        text-align: right;\n",
       "    }\n",
       "</style>\n",
       "<table border=\"1\" class=\"dataframe\">\n",
       "  <thead>\n",
       "    <tr style=\"text-align: right;\">\n",
       "      <th></th>\n",
       "      <th>City</th>\n",
       "      <th>Product Type</th>\n",
       "      <th>Accessories_Count</th>\n",
       "    </tr>\n",
       "  </thead>\n",
       "  <tbody>\n",
       "    <tr>\n",
       "      <th>2</th>\n",
       "      <td>Mysore</td>\n",
       "      <td>Electronic accessories</td>\n",
       "      <td>333</td>\n",
       "    </tr>\n",
       "  </tbody>\n",
       "</table>\n",
       "</div>"
      ],
      "text/plain": [
       "     City            Product Type  Accessories_Count\n",
       "2  Mysore  Electronic accessories                333"
      ]
     },
     "execution_count": 127,
     "metadata": {},
     "output_type": "execute_result"
    }
   ],
   "source": [
    "df_Accessories=data_df[data_df[\"Product Type\"] ==\"Electronic accessories\"].groupby(['City','Product Type'])['Quantity'].sum().reset_index(name=\"Accessories_Count\")\n",
    "max_accessories=max(df_Accessories['Accessories_Count'])  \n",
    "df_Accessories[df_Accessories['Accessories_Count']==max_accessories]\n"
   ]
  },
  {
   "cell_type": "markdown",
   "id": "8026c269",
   "metadata": {},
   "source": [
    "<b>Grphical view(Bar plot) that Myshore has better sale for Electronics Accessories<b>"
   ]
  },
  {
   "cell_type": "code",
   "execution_count": 128,
   "id": "aed150a7",
   "metadata": {},
   "outputs": [
    {
     "data": {
      "text/plain": [
       "<function matplotlib.pyplot.show(close=None, block=None)>"
      ]
     },
     "execution_count": 128,
     "metadata": {},
     "output_type": "execute_result"
    },
    {
     "data": {
      "image/png": "[encoded data removed]",
      "text/plain": [
       "<Figure size 432x288 with 1 Axes>"
      ]
     },
     "metadata": {
      "needs_background": "light"
     },
     "output_type": "display_data"
    }
   ],
   "source": [
    "plt.bar(df_Accessories['City'].to_list(),df_Accessories['Accessories_Count'].to_list())\n",
    "plt.show"
   ]
  },
  {
   "cell_type": "code",
   "execution_count": 129,
   "id": "b4ce2241",
   "metadata": {},
   "outputs": [],
   "source": [
    "data_df_FemaleCustomers = data_df[data_df['Gender'] == 'Female']"
   ]
  },
  {
   "cell_type": "markdown",
   "id": "871187a9",
   "metadata": {},
   "source": [
    "<b>Which Product type has been more purchased by female customers<b/>"
   ]
  },
  {
   "cell_type": "code",
   "execution_count": 130,
   "id": "7e239312",
   "metadata": {},
   "outputs": [
    {
     "data": {
      "text/html": [
       "<div>\n",
       "<style scoped>\n",
       "    .dataframe tbody tr th:only-of-type {\n",
       "        vertical-align: middle;\n",
       "    }\n",
       "\n",
       "    .dataframe tbody tr th {\n",
       "        vertical-align: top;\n",
       "    }\n",
       "\n",
       "    .dataframe thead th {\n",
       "        text-align: right;\n",
       "    }\n",
       "</style>\n",
       "<table border=\"1\" class=\"dataframe\">\n",
       "  <thead>\n",
       "    <tr style=\"text-align: right;\">\n",
       "      <th></th>\n",
       "      <th>Gender</th>\n",
       "      <th>Product Type</th>\n",
       "      <th>Quantity_Count</th>\n",
       "    </tr>\n",
       "  </thead>\n",
       "  <tbody>\n",
       "    <tr>\n",
       "      <th>1</th>\n",
       "      <td>Female</td>\n",
       "      <td>Fashion accessories</td>\n",
       "      <td>530</td>\n",
       "    </tr>\n",
       "  </tbody>\n",
       "</table>\n",
       "</div>"
      ],
      "text/plain": [
       "   Gender         Product Type  Quantity_Count\n",
       "1  Female  Fashion accessories             530"
      ]
     },
     "execution_count": 130,
     "metadata": {},
     "output_type": "execute_result"
    }
   ],
   "source": [
    "df_quantity=data_df[data_df[\"Gender\"] ==\"Female\"].groupby(['Gender','Product Type'])['Quantity'].sum().reset_index(name=\"Quantity_Count\")\n",
    "max_quantity=max(df_quantity['Quantity_Count'])  \n",
    "df_quantity[df_quantity['Quantity_Count']==max_quantity]\n",
    "\n"
   ]
  },
  {
   "cell_type": "markdown",
   "id": "8913105f",
   "metadata": {},
   "source": [
    "<b>Grphical view that Fashion Accessories are purchased more by female customers<b/>"
   ]
  },
  {
   "cell_type": "code",
   "execution_count": 131,
   "id": "dcb13626",
   "metadata": {},
   "outputs": [
    {
     "data": {
      "image/png": "[encoded data removed]",
      "text/plain": [
       "<Figure size 432x288 with 1 Axes>"
      ]
     },
     "metadata": {
      "needs_background": "light"
     },
     "output_type": "display_data"
    }
   ],
   "source": [
    "ax = sns.countplot(x=\"Product Type\", data=data_df_FemaleCustomers)\n",
    "ax.set_xticklabels(ax.get_xticklabels(), rotation=40, ha=\"right\")\n",
    "ax.set_xlabel(\"Product Type\", fontsize=20)\n",
    "ax.set_ylabel(\"count\", fontsize=20)\n",
    "plt.tight_layout()\n",
    "plt.show()"
   ]
  },
  {
   "cell_type": "code",
   "execution_count": 132,
   "id": "445f54c0",
   "metadata": {},
   "outputs": [],
   "source": [
    "\n",
    "data_df[\"Date\"]= pd.to_datetime(data_df[\"Date\"])"
   ]
  },
  {
   "cell_type": "code",
   "execution_count": 133,
   "id": "f61a993f",
   "metadata": {},
   "outputs": [],
   "source": [
    "data_df['Month'] = data_df['Date'].dt.strftime('%b')"
   ]
  },
  {
   "cell_type": "code",
   "execution_count": 134,
   "id": "3892a850",
   "metadata": {},
   "outputs": [
    {
     "data": {
      "text/html": [
       "<div>\n",
       "<style scoped>\n",
       "    .dataframe tbody tr th:only-of-type {\n",
       "        vertical-align: middle;\n",
       "    }\n",
       "\n",
       "    .dataframe tbody tr th {\n",
       "        vertical-align: top;\n",
       "    }\n",
       "\n",
       "    .dataframe thead th {\n",
       "        text-align: right;\n",
       "    }\n",
       "</style>\n",
       "<table border=\"1\" class=\"dataframe\">\n",
       "  <thead>\n",
       "    <tr style=\"text-align: right;\">\n",
       "      <th></th>\n",
       "      <th>index</th>\n",
       "      <th>Invoice ID</th>\n",
       "      <th>Branch</th>\n",
       "      <th>City</th>\n",
       "      <th>Customer Type</th>\n",
       "      <th>Gender</th>\n",
       "      <th>Product Type</th>\n",
       "      <th>Unit Price</th>\n",
       "      <th>Quantity</th>\n",
       "      <th>Tax</th>\n",
       "      <th>Selling Price</th>\n",
       "      <th>Date</th>\n",
       "      <th>Time</th>\n",
       "      <th>Payment Type</th>\n",
       "      <th>Cost Price</th>\n",
       "      <th>Gross Income</th>\n",
       "      <th>Rating</th>\n",
       "      <th>Month</th>\n",
       "    </tr>\n",
       "  </thead>\n",
       "  <tbody>\n",
       "    <tr>\n",
       "      <th>0</th>\n",
       "      <td>0</td>\n",
       "      <td>750-67-8428</td>\n",
       "      <td>A</td>\n",
       "      <td>Bangalore</td>\n",
       "      <td>Member</td>\n",
       "      <td>Female</td>\n",
       "      <td>Health and beauty</td>\n",
       "      <td>74.69</td>\n",
       "      <td>7</td>\n",
       "      <td>26.1415</td>\n",
       "      <td>548.9715</td>\n",
       "      <td>2019-01-05</td>\n",
       "      <td>13:08</td>\n",
       "      <td>Debit card</td>\n",
       "      <td>522.83</td>\n",
       "      <td>26.1415</td>\n",
       "      <td>9.1</td>\n",
       "      <td>Jan</td>\n",
       "    </tr>\n",
       "    <tr>\n",
       "      <th>1</th>\n",
       "      <td>1</td>\n",
       "      <td>226-31-3081</td>\n",
       "      <td>C</td>\n",
       "      <td>Mysore</td>\n",
       "      <td>Normal</td>\n",
       "      <td>Female</td>\n",
       "      <td>Electronic accessories</td>\n",
       "      <td>15.28</td>\n",
       "      <td>5</td>\n",
       "      <td>3.8200</td>\n",
       "      <td>80.2200</td>\n",
       "      <td>2019-03-08</td>\n",
       "      <td>10:29</td>\n",
       "      <td>Cash</td>\n",
       "      <td>76.40</td>\n",
       "      <td>3.8200</td>\n",
       "      <td>9.6</td>\n",
       "      <td>Mar</td>\n",
       "    </tr>\n",
       "    <tr>\n",
       "      <th>2</th>\n",
       "      <td>2</td>\n",
       "      <td>631-41-3108</td>\n",
       "      <td>A</td>\n",
       "      <td>Bangalore</td>\n",
       "      <td>Normal</td>\n",
       "      <td>Male</td>\n",
       "      <td>Home and lifestyle</td>\n",
       "      <td>46.33</td>\n",
       "      <td>7</td>\n",
       "      <td>16.2155</td>\n",
       "      <td>340.5255</td>\n",
       "      <td>2019-03-03</td>\n",
       "      <td>13:23</td>\n",
       "      <td>Credit card</td>\n",
       "      <td>324.31</td>\n",
       "      <td>16.2155</td>\n",
       "      <td>7.4</td>\n",
       "      <td>Mar</td>\n",
       "    </tr>\n",
       "    <tr>\n",
       "      <th>3</th>\n",
       "      <td>3</td>\n",
       "      <td>123-19-1176</td>\n",
       "      <td>A</td>\n",
       "      <td>Bangalore</td>\n",
       "      <td>Member</td>\n",
       "      <td>Male</td>\n",
       "      <td>Health and beauty</td>\n",
       "      <td>58.22</td>\n",
       "      <td>8</td>\n",
       "      <td>23.2880</td>\n",
       "      <td>489.0480</td>\n",
       "      <td>2019-01-27</td>\n",
       "      <td>20:33</td>\n",
       "      <td>Debit card</td>\n",
       "      <td>465.76</td>\n",
       "      <td>23.2880</td>\n",
       "      <td>8.4</td>\n",
       "      <td>Jan</td>\n",
       "    </tr>\n",
       "    <tr>\n",
       "      <th>4</th>\n",
       "      <td>4</td>\n",
       "      <td>373-73-7910</td>\n",
       "      <td>A</td>\n",
       "      <td>Bangalore</td>\n",
       "      <td>Normal</td>\n",
       "      <td>Male</td>\n",
       "      <td>Sports and travel</td>\n",
       "      <td>86.31</td>\n",
       "      <td>7</td>\n",
       "      <td>30.2085</td>\n",
       "      <td>634.3785</td>\n",
       "      <td>2019-02-08</td>\n",
       "      <td>10:37</td>\n",
       "      <td>Debit card</td>\n",
       "      <td>604.17</td>\n",
       "      <td>30.2085</td>\n",
       "      <td>5.3</td>\n",
       "      <td>Feb</td>\n",
       "    </tr>\n",
       "    <tr>\n",
       "      <th>5</th>\n",
       "      <td>5</td>\n",
       "      <td>699-14-3026</td>\n",
       "      <td>C</td>\n",
       "      <td>Mysore</td>\n",
       "      <td>Normal</td>\n",
       "      <td>Male</td>\n",
       "      <td>Electronic accessories</td>\n",
       "      <td>85.39</td>\n",
       "      <td>7</td>\n",
       "      <td>29.8865</td>\n",
       "      <td>627.6165</td>\n",
       "      <td>2019-03-25</td>\n",
       "      <td>18:30</td>\n",
       "      <td>Debit card</td>\n",
       "      <td>597.73</td>\n",
       "      <td>29.8865</td>\n",
       "      <td>4.1</td>\n",
       "      <td>Mar</td>\n",
       "    </tr>\n",
       "    <tr>\n",
       "      <th>6</th>\n",
       "      <td>6</td>\n",
       "      <td>355-53-5943</td>\n",
       "      <td>A</td>\n",
       "      <td>Bangalore</td>\n",
       "      <td>Member</td>\n",
       "      <td>Female</td>\n",
       "      <td>Electronic accessories</td>\n",
       "      <td>68.84</td>\n",
       "      <td>6</td>\n",
       "      <td>20.6520</td>\n",
       "      <td>433.6920</td>\n",
       "      <td>2019-02-25</td>\n",
       "      <td>14:36</td>\n",
       "      <td>Debit card</td>\n",
       "      <td>413.04</td>\n",
       "      <td>20.6520</td>\n",
       "      <td>5.8</td>\n",
       "      <td>Feb</td>\n",
       "    </tr>\n",
       "    <tr>\n",
       "      <th>7</th>\n",
       "      <td>7</td>\n",
       "      <td>315-22-5665</td>\n",
       "      <td>C</td>\n",
       "      <td>Mysore</td>\n",
       "      <td>Normal</td>\n",
       "      <td>Female</td>\n",
       "      <td>Home and lifestyle</td>\n",
       "      <td>73.56</td>\n",
       "      <td>10</td>\n",
       "      <td>36.7800</td>\n",
       "      <td>772.3800</td>\n",
       "      <td>2019-02-24</td>\n",
       "      <td>11:38</td>\n",
       "      <td>Debit card</td>\n",
       "      <td>735.60</td>\n",
       "      <td>36.7800</td>\n",
       "      <td>8.0</td>\n",
       "      <td>Feb</td>\n",
       "    </tr>\n",
       "    <tr>\n",
       "      <th>8</th>\n",
       "      <td>8</td>\n",
       "      <td>665-32-9167</td>\n",
       "      <td>A</td>\n",
       "      <td>Bangalore</td>\n",
       "      <td>Member</td>\n",
       "      <td>Female</td>\n",
       "      <td>Health and beauty</td>\n",
       "      <td>36.26</td>\n",
       "      <td>2</td>\n",
       "      <td>3.6260</td>\n",
       "      <td>76.1460</td>\n",
       "      <td>2019-01-10</td>\n",
       "      <td>17:15</td>\n",
       "      <td>Credit card</td>\n",
       "      <td>72.52</td>\n",
       "      <td>3.6260</td>\n",
       "      <td>7.2</td>\n",
       "      <td>Jan</td>\n",
       "    </tr>\n",
       "    <tr>\n",
       "      <th>9</th>\n",
       "      <td>9</td>\n",
       "      <td>692-92-5582</td>\n",
       "      <td>B</td>\n",
       "      <td>Mangalore</td>\n",
       "      <td>Member</td>\n",
       "      <td>Female</td>\n",
       "      <td>Food and beverages</td>\n",
       "      <td>54.84</td>\n",
       "      <td>3</td>\n",
       "      <td>8.2260</td>\n",
       "      <td>172.7460</td>\n",
       "      <td>2019-02-20</td>\n",
       "      <td>13:27</td>\n",
       "      <td>Credit card</td>\n",
       "      <td>164.52</td>\n",
       "      <td>8.2260</td>\n",
       "      <td>5.9</td>\n",
       "      <td>Feb</td>\n",
       "    </tr>\n",
       "  </tbody>\n",
       "</table>\n",
       "</div>"
      ],
      "text/plain": [
       "   index   Invoice ID Branch       City Customer Type  Gender            Product Type  Unit Price  Quantity     Tax   Selling Price       Date   Time Payment Type  Cost Price  Gross Income  Rating Month\n",
       "0      0  750-67-8428      A  Bangalore        Member  Female       Health and beauty       74.69         7  26.1415       548.9715 2019-01-05  13:08   Debit card      522.83       26.1415     9.1   Jan\n",
       "1      1  226-31-3081      C     Mysore        Normal  Female  Electronic accessories       15.28         5   3.8200        80.2200 2019-03-08  10:29         Cash       76.40        3.8200     9.6   Mar\n",
       "2      2  631-41-3108      A  Bangalore        Normal    Male      Home and lifestyle       46.33         7  16.2155       340.5255 2019-03-03  13:23  Credit card      324.31       16.2155     7.4   Mar\n",
       "3      3  123-19-1176      A  Bangalore        Member    Male       Health and beauty       58.22         8  23.2880       489.0480 2019-01-27  20:33   Debit card      465.76       23.2880     8.4   Jan\n",
       "4      4  373-73-7910      A  Bangalore        Normal    Male       Sports and travel       86.31         7  30.2085       634.3785 2019-02-08  10:37   Debit card      604.17       30.2085     5.3   Feb\n",
       "5      5  699-14-3026      C     Mysore        Normal    Male  Electronic accessories       85.39         7  29.8865       627.6165 2019-03-25  18:30   Debit card      597.73       29.8865     4.1   Mar\n",
       "6      6  355-53-5943      A  Bangalore        Member  Female  Electronic accessories       68.84         6  20.6520       433.6920 2019-02-25  14:36   Debit card      413.04       20.6520     5.8   Feb\n",
       "7      7  315-22-5665      C     Mysore        Normal  Female      Home and lifestyle       73.56        10  36.7800       772.3800 2019-02-24  11:38   Debit card      735.60       36.7800     8.0   Feb\n",
       "8      8  665-32-9167      A  Bangalore        Member  Female       Health and beauty       36.26         2   3.6260        76.1460 2019-01-10  17:15  Credit card       72.52        3.6260     7.2   Jan\n",
       "9      9  692-92-5582      B  Mangalore        Member  Female      Food and beverages       54.84         3   8.2260       172.7460 2019-02-20  13:27  Credit card      164.52        8.2260     5.9   Feb"
      ]
     },
     "execution_count": 134,
     "metadata": {},
     "output_type": "execute_result"
    }
   ],
   "source": [
    "data_df.head(10)"
   ]
  },
  {
   "cell_type": "code",
   "execution_count": 135,
   "id": "66c7c0f6",
   "metadata": {},
   "outputs": [],
   "source": [
    "data_df_Home_lifestyle = data_df[data_df['Product Type'] == 'Home and lifestyle']"
   ]
  },
  {
   "cell_type": "markdown",
   "id": "ccac8585",
   "metadata": {},
   "source": [
    "<b>In which month does the highest number of home and lifestyle products have been sold<b/>"
   ]
  },
  {
   "cell_type": "code",
   "execution_count": 136,
   "id": "fb065eea",
   "metadata": {},
   "outputs": [
    {
     "data": {
      "text/html": [
       "<div>\n",
       "<style scoped>\n",
       "    .dataframe tbody tr th:only-of-type {\n",
       "        vertical-align: middle;\n",
       "    }\n",
       "\n",
       "    .dataframe tbody tr th {\n",
       "        vertical-align: top;\n",
       "    }\n",
       "\n",
       "    .dataframe thead th {\n",
       "        text-align: right;\n",
       "    }\n",
       "</style>\n",
       "<table border=\"1\" class=\"dataframe\">\n",
       "  <thead>\n",
       "    <tr style=\"text-align: right;\">\n",
       "      <th></th>\n",
       "      <th>Month</th>\n",
       "      <th>Product Type</th>\n",
       "      <th>Quantity_Count</th>\n",
       "    </tr>\n",
       "  </thead>\n",
       "  <tbody>\n",
       "    <tr>\n",
       "      <th>2</th>\n",
       "      <td>Mar</td>\n",
       "      <td>Home and lifestyle</td>\n",
       "      <td>364</td>\n",
       "    </tr>\n",
       "  </tbody>\n",
       "</table>\n",
       "</div>"
      ],
      "text/plain": [
       "  Month        Product Type  Quantity_Count\n",
       "2   Mar  Home and lifestyle             364"
      ]
     },
     "execution_count": 136,
     "metadata": {},
     "output_type": "execute_result"
    }
   ],
   "source": [
    "df_month_quantity=data_df[data_df[\"Product Type\"] ==\"Home and lifestyle\"].groupby(['Month','Product Type'])['Quantity'].sum().reset_index(name=\"Quantity_Count\")\n",
    "max_month_quantity=max(df_month_quantity['Quantity_Count'])  \n",
    "df_month_quantity[df_month_quantity['Quantity_Count']==max_month_quantity]\n",
    "\n"
   ]
  },
  {
   "cell_type": "markdown",
   "id": "56ae2915",
   "metadata": {},
   "source": [
    "<b>Below grapgh(Count plot) shows that highest number of Home and lifestyle product was sold in March<b/>"
   ]
  },
  {
   "cell_type": "code",
   "execution_count": 137,
   "id": "7569f235",
   "metadata": {},
   "outputs": [
    {
     "name": "stdout",
     "output_type": "stream",
     "text": [
      "Product type Home and lifestyle sold every month\n",
      "0    205\n",
      "1    342\n",
      "2    364\n",
      "Name: Quantity_Count, dtype: int64\n"
     ]
    },
    {
     "data": {
      "image/png": "[encoded data removed]",
      "text/plain": [
       "<Figure size 432x288 with 1 Axes>"
      ]
     },
     "metadata": {
      "needs_background": "light"
     },
     "output_type": "display_data"
    }
   ],
   "source": [
    "print('Product type Home and lifestyle sold every month')\n",
    "print(df_month_quantity['Quantity_Count'])\n",
    "ax = sns.countplot(x=\"Month\", data=data_df_Home_lifestyle)\n",
    "ax.set_xticklabels(ax.get_xticklabels(), rotation=40, ha=\"right\")\n",
    "ax.set_xlabel(\"Month\", fontsize=20)\n",
    "ax.set_ylabel(\"Quantity_Count\", fontsize=20)\n",
    "plt.tight_layout()\n",
    "plt.show()\n",
    "\n"
   ]
  },
  {
   "cell_type": "code",
   "execution_count": 138,
   "id": "f7ed355b",
   "metadata": {},
   "outputs": [],
   "source": [
    "data_df['City_Branch']=data_df.apply(lambda x:'%s_%s' % (x['Branch'],x['City']),axis=1)"
   ]
  },
  {
   "cell_type": "code",
   "execution_count": 139,
   "id": "af0bf16e",
   "metadata": {},
   "outputs": [
    {
     "data": {
      "text/html": [
       "<div>\n",
       "<style scoped>\n",
       "    .dataframe tbody tr th:only-of-type {\n",
       "        vertical-align: middle;\n",
       "    }\n",
       "\n",
       "    .dataframe tbody tr th {\n",
       "        vertical-align: top;\n",
       "    }\n",
       "\n",
       "    .dataframe thead th {\n",
       "        text-align: right;\n",
       "    }\n",
       "</style>\n",
       "<table border=\"1\" class=\"dataframe\">\n",
       "  <thead>\n",
       "    <tr style=\"text-align: right;\">\n",
       "      <th></th>\n",
       "      <th>index</th>\n",
       "      <th>Invoice ID</th>\n",
       "      <th>Branch</th>\n",
       "      <th>City</th>\n",
       "      <th>Customer Type</th>\n",
       "      <th>Gender</th>\n",
       "      <th>Product Type</th>\n",
       "      <th>Unit Price</th>\n",
       "      <th>Quantity</th>\n",
       "      <th>Tax</th>\n",
       "      <th>Selling Price</th>\n",
       "      <th>Date</th>\n",
       "      <th>Time</th>\n",
       "      <th>Payment Type</th>\n",
       "      <th>Cost Price</th>\n",
       "      <th>Gross Income</th>\n",
       "      <th>Rating</th>\n",
       "      <th>Month</th>\n",
       "      <th>City_Branch</th>\n",
       "    </tr>\n",
       "  </thead>\n",
       "  <tbody>\n",
       "    <tr>\n",
       "      <th>0</th>\n",
       "      <td>0</td>\n",
       "      <td>750-67-8428</td>\n",
       "      <td>A</td>\n",
       "      <td>Bangalore</td>\n",
       "      <td>Member</td>\n",
       "      <td>Female</td>\n",
       "      <td>Health and beauty</td>\n",
       "      <td>74.69</td>\n",
       "      <td>7</td>\n",
       "      <td>26.1415</td>\n",
       "      <td>548.9715</td>\n",
       "      <td>2019-01-05</td>\n",
       "      <td>13:08</td>\n",
       "      <td>Debit card</td>\n",
       "      <td>522.83</td>\n",
       "      <td>26.1415</td>\n",
       "      <td>9.1</td>\n",
       "      <td>Jan</td>\n",
       "      <td>A_Bangalore</td>\n",
       "    </tr>\n",
       "    <tr>\n",
       "      <th>1</th>\n",
       "      <td>1</td>\n",
       "      <td>226-31-3081</td>\n",
       "      <td>C</td>\n",
       "      <td>Mysore</td>\n",
       "      <td>Normal</td>\n",
       "      <td>Female</td>\n",
       "      <td>Electronic accessories</td>\n",
       "      <td>15.28</td>\n",
       "      <td>5</td>\n",
       "      <td>3.8200</td>\n",
       "      <td>80.2200</td>\n",
       "      <td>2019-03-08</td>\n",
       "      <td>10:29</td>\n",
       "      <td>Cash</td>\n",
       "      <td>76.40</td>\n",
       "      <td>3.8200</td>\n",
       "      <td>9.6</td>\n",
       "      <td>Mar</td>\n",
       "      <td>C_Mysore</td>\n",
       "    </tr>\n",
       "    <tr>\n",
       "      <th>2</th>\n",
       "      <td>2</td>\n",
       "      <td>631-41-3108</td>\n",
       "      <td>A</td>\n",
       "      <td>Bangalore</td>\n",
       "      <td>Normal</td>\n",
       "      <td>Male</td>\n",
       "      <td>Home and lifestyle</td>\n",
       "      <td>46.33</td>\n",
       "      <td>7</td>\n",
       "      <td>16.2155</td>\n",
       "      <td>340.5255</td>\n",
       "      <td>2019-03-03</td>\n",
       "      <td>13:23</td>\n",
       "      <td>Credit card</td>\n",
       "      <td>324.31</td>\n",
       "      <td>16.2155</td>\n",
       "      <td>7.4</td>\n",
       "      <td>Mar</td>\n",
       "      <td>A_Bangalore</td>\n",
       "    </tr>\n",
       "    <tr>\n",
       "      <th>3</th>\n",
       "      <td>3</td>\n",
       "      <td>123-19-1176</td>\n",
       "      <td>A</td>\n",
       "      <td>Bangalore</td>\n",
       "      <td>Member</td>\n",
       "      <td>Male</td>\n",
       "      <td>Health and beauty</td>\n",
       "      <td>58.22</td>\n",
       "      <td>8</td>\n",
       "      <td>23.2880</td>\n",
       "      <td>489.0480</td>\n",
       "      <td>2019-01-27</td>\n",
       "      <td>20:33</td>\n",
       "      <td>Debit card</td>\n",
       "      <td>465.76</td>\n",
       "      <td>23.2880</td>\n",
       "      <td>8.4</td>\n",
       "      <td>Jan</td>\n",
       "      <td>A_Bangalore</td>\n",
       "    </tr>\n",
       "    <tr>\n",
       "      <th>4</th>\n",
       "      <td>4</td>\n",
       "      <td>373-73-7910</td>\n",
       "      <td>A</td>\n",
       "      <td>Bangalore</td>\n",
       "      <td>Normal</td>\n",
       "      <td>Male</td>\n",
       "      <td>Sports and travel</td>\n",
       "      <td>86.31</td>\n",
       "      <td>7</td>\n",
       "      <td>30.2085</td>\n",
       "      <td>634.3785</td>\n",
       "      <td>2019-02-08</td>\n",
       "      <td>10:37</td>\n",
       "      <td>Debit card</td>\n",
       "      <td>604.17</td>\n",
       "      <td>30.2085</td>\n",
       "      <td>5.3</td>\n",
       "      <td>Feb</td>\n",
       "      <td>A_Bangalore</td>\n",
       "    </tr>\n",
       "  </tbody>\n",
       "</table>\n",
       "</div>"
      ],
      "text/plain": [
       "   index   Invoice ID Branch       City Customer Type  Gender            Product Type  Unit Price  Quantity     Tax   Selling Price       Date   Time Payment Type  Cost Price  Gross Income  Rating Month  City_Branch\n",
       "0      0  750-67-8428      A  Bangalore        Member  Female       Health and beauty       74.69         7  26.1415       548.9715 2019-01-05  13:08   Debit card      522.83       26.1415     9.1   Jan  A_Bangalore\n",
       "1      1  226-31-3081      C     Mysore        Normal  Female  Electronic accessories       15.28         5   3.8200        80.2200 2019-03-08  10:29         Cash       76.40        3.8200     9.6   Mar     C_Mysore\n",
       "2      2  631-41-3108      A  Bangalore        Normal    Male      Home and lifestyle       46.33         7  16.2155       340.5255 2019-03-03  13:23  Credit card      324.31       16.2155     7.4   Mar  A_Bangalore\n",
       "3      3  123-19-1176      A  Bangalore        Member    Male       Health and beauty       58.22         8  23.2880       489.0480 2019-01-27  20:33   Debit card      465.76       23.2880     8.4   Jan  A_Bangalore\n",
       "4      4  373-73-7910      A  Bangalore        Normal    Male       Sports and travel       86.31         7  30.2085       634.3785 2019-02-08  10:37   Debit card      604.17       30.2085     5.3   Feb  A_Bangalore"
      ]
     },
     "execution_count": 139,
     "metadata": {},
     "output_type": "execute_result"
    }
   ],
   "source": [
    "data_df.head()"
   ]
  },
  {
   "cell_type": "markdown",
   "id": "3cf17a79",
   "metadata": {},
   "source": [
    "<b>Which payment method is used more often at a particular city, branch and for which product type<b/>"
   ]
  },
  {
   "cell_type": "code",
   "execution_count": 140,
   "id": "682559b5",
   "metadata": {},
   "outputs": [
    {
     "name": "stdout",
     "output_type": "stream",
     "text": [
      "Debit card     345\n",
      "Cash           344\n",
      "Credit card    311\n",
      "Name: Payment Type, dtype: int64\n",
      "_ _ _ _ _ _ _ _ _ _ _ _ _ _ _ _ _ _ _ _ _ _ _ _ _ _ _ _ _ _ _ _ _ _ _ _ _ _ _ _ _ _ _ _ _ _ _ _ _ _ \n",
      "Payment Type Debit Card is often used\n",
      "_ _ _ _ _ _ _ _ _ _ _ _ _ _ _ _ _ _ _ _ _ _ _ _ _ _ _ _ _ _ _ _ _ _ _ _ _ _ _ _ _ _ _ _ _ _ _ _ _ _ \n",
      "A_Bangalore    126\n",
      "B_Mangalore    113\n",
      "C_Mysore       106\n",
      "Name: City_Branch, dtype: int64\n"
     ]
    },
    {
     "data": {
      "image/png": "[encoded data removed]",
      "text/plain": [
       "<Figure size 432x288 with 1 Axes>"
      ]
     },
     "metadata": {
      "needs_background": "light"
     },
     "output_type": "display_data"
    }
   ],
   "source": [
    "print(data_df['Payment Type'].value_counts(ascending=False))\n",
    "print('_ '*50)\n",
    "print('Payment Type Debit Card is often used')\n",
    "print('_ '*50)\n",
    "data_df_DebitCard = data_df[data_df['Payment Type'] == 'Debit card']\n",
    "\n",
    "print(data_df_DebitCard['City_Branch'].value_counts(ascending=False))\n",
    "ax = sns.countplot(x=\"City_Branch\", data=data_df_DebitCard)\n",
    "ax.set_xticklabels(ax.get_xticklabels(), rotation=40, ha=\"right\")\n",
    "ax.set_xlabel(\"City_Branch\", fontsize=20)\n",
    "ax.set_ylabel(\"count\", fontsize=20)\n",
    "plt.tight_layout()\n",
    "plt.show()\n"
   ]
  },
  {
   "cell_type": "markdown",
   "id": "230fe40f",
   "metadata": {},
   "source": [
    "# Perform data wrangling / pre-processing "
   ]
  },
  {
   "cell_type": "markdown",
   "id": "0f50b69b",
   "metadata": {},
   "source": [
    "<b>Perform Mapping of Categorical Attribute-Branch through lebel encoder<b/>"
   ]
  },
  {
   "cell_type": "code",
   "execution_count": 141,
   "id": "b7acd18d",
   "metadata": {},
   "outputs": [
    {
     "name": "stdout",
     "output_type": "stream",
     "text": [
      "   Branch  size\n",
      "0       0   340\n",
      "1       1   332\n",
      "2       2   328\n"
     ]
    }
   ],
   "source": [
    "LE_Branch = LabelEncoder()\n",
    "data_df['Branch'] = LE_Branch.fit_transform(data_df['Branch'])\n",
    "joblib.dump(LE_Branch, 'branch_encoder.pkl')\n",
    "print(data_df.groupby(['Branch'], as_index=False).size())"
   ]
  },
  {
   "cell_type": "markdown",
   "id": "30213d20",
   "metadata": {},
   "source": [
    "<b>Perform Mapping of Categorical Attribute-City through lebel encoder<b/>"
   ]
  },
  {
   "cell_type": "code",
   "execution_count": 142,
   "id": "719ad5a9",
   "metadata": {},
   "outputs": [
    {
     "name": "stdout",
     "output_type": "stream",
     "text": [
      "   City  size\n",
      "0     0   340\n",
      "1     1   332\n",
      "2     2   328\n"
     ]
    }
   ],
   "source": [
    "LE_City = LabelEncoder()\n",
    "data_df['City'] = LE_City.fit_transform(data_df['City'])\n",
    "joblib.dump(LE_City,'City_encoder.pkl')\n",
    "\n",
    "print(data_df.groupby(['City'],  as_index=False).size())"
   ]
  },
  {
   "cell_type": "markdown",
   "id": "4e091020",
   "metadata": {},
   "source": [
    "<b>Perform Mapping of Categorical Attribute-Customer through lebel encoder<b/>"
   ]
  },
  {
   "cell_type": "code",
   "execution_count": 143,
   "id": "a77f7427",
   "metadata": {},
   "outputs": [
    {
     "name": "stdout",
     "output_type": "stream",
     "text": [
      "   Customer Type  size\n",
      "0              0   501\n",
      "1              1   499\n"
     ]
    }
   ],
   "source": [
    "LE_Customer = LabelEncoder()\n",
    "data_df['Customer Type'] = LE_Customer.fit_transform(data_df['Customer Type'])\n",
    "joblib.dump(LE_Customer,'Customer_encoder.pkl')\n",
    "\n",
    "print(data_df.groupby(['Customer Type'], as_index=False).size())"
   ]
  },
  {
   "cell_type": "markdown",
   "id": "226e347e",
   "metadata": {},
   "source": [
    "<b>Perform Mapping of Categorical Attribute-Gender through lebel encoder<b/>"
   ]
  },
  {
   "cell_type": "code",
   "execution_count": 144,
   "id": "35989ad9",
   "metadata": {},
   "outputs": [
    {
     "name": "stdout",
     "output_type": "stream",
     "text": [
      "   Gender  size\n",
      "0       0   501\n",
      "1       1   499\n"
     ]
    }
   ],
   "source": [
    "LE_Gender = LabelEncoder()\n",
    "data_df['Gender'] = LE_Gender.fit_transform(data_df['Gender'])\n",
    "joblib.dump(LE_Gender,'Gender_encoder.pkl')\n",
    "\n",
    "print(data_df.groupby(['Gender'], as_index=False).size())"
   ]
  },
  {
   "cell_type": "markdown",
   "id": "9058dc1c",
   "metadata": {},
   "source": [
    "<b>Perform Mapping of Categorical Attribute-Product through lebel encoder<b/>"
   ]
  },
  {
   "cell_type": "code",
   "execution_count": 145,
   "id": "2a48f150",
   "metadata": {},
   "outputs": [
    {
     "name": "stdout",
     "output_type": "stream",
     "text": [
      "   Product Type  size\n",
      "0             0   170\n",
      "1             1   178\n",
      "2             2   174\n",
      "3             3   152\n",
      "4             4   160\n",
      "5             5   166\n"
     ]
    }
   ],
   "source": [
    "LE_Product = LabelEncoder()\n",
    "data_df['Product Type'] = LE_Product.fit_transform(data_df['Product Type'])\n",
    "joblib.dump(LE_Product,'Product.pkl')\n",
    "\n",
    "print(data_df.groupby(['Product Type'], as_index=False).size())"
   ]
  },
  {
   "cell_type": "markdown",
   "id": "bb8ff997",
   "metadata": {},
   "source": [
    "<b>Perform Mapping of Categorical Attribute-Payment method through lebel encoder<b/>"
   ]
  },
  {
   "cell_type": "code",
   "execution_count": 146,
   "id": "29599c87",
   "metadata": {},
   "outputs": [
    {
     "name": "stdout",
     "output_type": "stream",
     "text": [
      "   Payment Type  size\n",
      "0             0   344\n",
      "1             1   311\n",
      "2             2   345\n"
     ]
    }
   ],
   "source": [
    "LE_Payment = LabelEncoder()\n",
    "data_df['Payment Type'] = LE_Product.fit_transform(data_df['Payment Type'])\n",
    "joblib.dump(LE_Payment,'Payment.pkl')\n",
    "\n",
    "print(data_df.groupby(['Payment Type'], as_index=False).size())"
   ]
  },
  {
   "cell_type": "markdown",
   "id": "25c7f4fb",
   "metadata": {},
   "source": [
    "<b>Rating is our target variable and to be classified into several catagories<b/>"
   ]
  },
  {
   "cell_type": "code",
   "execution_count": 147,
   "id": "fed441c9",
   "metadata": {
    "scrolled": true
   },
   "outputs": [
    {
     "data": {
      "text/html": [
       "<div>\n",
       "<style scoped>\n",
       "    .dataframe tbody tr th:only-of-type {\n",
       "        vertical-align: middle;\n",
       "    }\n",
       "\n",
       "    .dataframe tbody tr th {\n",
       "        vertical-align: top;\n",
       "    }\n",
       "\n",
       "    .dataframe thead th {\n",
       "        text-align: right;\n",
       "    }\n",
       "</style>\n",
       "<table border=\"1\" class=\"dataframe\">\n",
       "  <thead>\n",
       "    <tr style=\"text-align: right;\">\n",
       "      <th></th>\n",
       "      <th>index</th>\n",
       "      <th>Invoice ID</th>\n",
       "      <th>Branch</th>\n",
       "      <th>City</th>\n",
       "      <th>Customer Type</th>\n",
       "      <th>Gender</th>\n",
       "      <th>Product Type</th>\n",
       "      <th>Unit Price</th>\n",
       "      <th>Quantity</th>\n",
       "      <th>Tax</th>\n",
       "      <th>Selling Price</th>\n",
       "      <th>Date</th>\n",
       "      <th>Time</th>\n",
       "      <th>Payment Type</th>\n",
       "      <th>Cost Price</th>\n",
       "      <th>Gross Income</th>\n",
       "      <th>Rating</th>\n",
       "      <th>Month</th>\n",
       "      <th>City_Branch</th>\n",
       "      <th>Rating_Cat</th>\n",
       "    </tr>\n",
       "  </thead>\n",
       "  <tbody>\n",
       "    <tr>\n",
       "      <th>0</th>\n",
       "      <td>0</td>\n",
       "      <td>750-67-8428</td>\n",
       "      <td>0</td>\n",
       "      <td>0</td>\n",
       "      <td>0</td>\n",
       "      <td>0</td>\n",
       "      <td>3</td>\n",
       "      <td>74.69</td>\n",
       "      <td>7</td>\n",
       "      <td>26.1415</td>\n",
       "      <td>548.9715</td>\n",
       "      <td>2019-01-05</td>\n",
       "      <td>13:08</td>\n",
       "      <td>2</td>\n",
       "      <td>522.83</td>\n",
       "      <td>26.1415</td>\n",
       "      <td>9.1</td>\n",
       "      <td>Jan</td>\n",
       "      <td>A_Bangalore</td>\n",
       "      <td>3</td>\n",
       "    </tr>\n",
       "    <tr>\n",
       "      <th>1</th>\n",
       "      <td>1</td>\n",
       "      <td>226-31-3081</td>\n",
       "      <td>2</td>\n",
       "      <td>2</td>\n",
       "      <td>1</td>\n",
       "      <td>0</td>\n",
       "      <td>0</td>\n",
       "      <td>15.28</td>\n",
       "      <td>5</td>\n",
       "      <td>3.8200</td>\n",
       "      <td>80.2200</td>\n",
       "      <td>2019-03-08</td>\n",
       "      <td>10:29</td>\n",
       "      <td>0</td>\n",
       "      <td>76.40</td>\n",
       "      <td>3.8200</td>\n",
       "      <td>9.6</td>\n",
       "      <td>Mar</td>\n",
       "      <td>C_Mysore</td>\n",
       "      <td>3</td>\n",
       "    </tr>\n",
       "    <tr>\n",
       "      <th>2</th>\n",
       "      <td>2</td>\n",
       "      <td>631-41-3108</td>\n",
       "      <td>0</td>\n",
       "      <td>0</td>\n",
       "      <td>1</td>\n",
       "      <td>1</td>\n",
       "      <td>4</td>\n",
       "      <td>46.33</td>\n",
       "      <td>7</td>\n",
       "      <td>16.2155</td>\n",
       "      <td>340.5255</td>\n",
       "      <td>2019-03-03</td>\n",
       "      <td>13:23</td>\n",
       "      <td>1</td>\n",
       "      <td>324.31</td>\n",
       "      <td>16.2155</td>\n",
       "      <td>7.4</td>\n",
       "      <td>Mar</td>\n",
       "      <td>A_Bangalore</td>\n",
       "      <td>2</td>\n",
       "    </tr>\n",
       "    <tr>\n",
       "      <th>3</th>\n",
       "      <td>3</td>\n",
       "      <td>123-19-1176</td>\n",
       "      <td>0</td>\n",
       "      <td>0</td>\n",
       "      <td>0</td>\n",
       "      <td>1</td>\n",
       "      <td>3</td>\n",
       "      <td>58.22</td>\n",
       "      <td>8</td>\n",
       "      <td>23.2880</td>\n",
       "      <td>489.0480</td>\n",
       "      <td>2019-01-27</td>\n",
       "      <td>20:33</td>\n",
       "      <td>2</td>\n",
       "      <td>465.76</td>\n",
       "      <td>23.2880</td>\n",
       "      <td>8.4</td>\n",
       "      <td>Jan</td>\n",
       "      <td>A_Bangalore</td>\n",
       "      <td>3</td>\n",
       "    </tr>\n",
       "    <tr>\n",
       "      <th>4</th>\n",
       "      <td>4</td>\n",
       "      <td>373-73-7910</td>\n",
       "      <td>0</td>\n",
       "      <td>0</td>\n",
       "      <td>1</td>\n",
       "      <td>1</td>\n",
       "      <td>5</td>\n",
       "      <td>86.31</td>\n",
       "      <td>7</td>\n",
       "      <td>30.2085</td>\n",
       "      <td>634.3785</td>\n",
       "      <td>2019-02-08</td>\n",
       "      <td>10:37</td>\n",
       "      <td>2</td>\n",
       "      <td>604.17</td>\n",
       "      <td>30.2085</td>\n",
       "      <td>5.3</td>\n",
       "      <td>Feb</td>\n",
       "      <td>A_Bangalore</td>\n",
       "      <td>2</td>\n",
       "    </tr>\n",
       "  </tbody>\n",
       "</table>\n",
       "</div>"
      ],
      "text/plain": [
       "   index   Invoice ID  Branch  City  Customer Type  Gender  Product Type  Unit Price  Quantity     Tax   Selling Price       Date   Time  Payment Type  Cost Price  Gross Income  Rating Month  City_Branch Rating_Cat\n",
       "0      0  750-67-8428       0     0              0       0             3       74.69         7  26.1415       548.9715 2019-01-05  13:08             2      522.83       26.1415     9.1   Jan  A_Bangalore          3\n",
       "1      1  226-31-3081       2     2              1       0             0       15.28         5   3.8200        80.2200 2019-03-08  10:29             0       76.40        3.8200     9.6   Mar     C_Mysore          3\n",
       "2      2  631-41-3108       0     0              1       1             4       46.33         7  16.2155       340.5255 2019-03-03  13:23             1      324.31       16.2155     7.4   Mar  A_Bangalore          2\n",
       "3      3  123-19-1176       0     0              0       1             3       58.22         8  23.2880       489.0480 2019-01-27  20:33             2      465.76       23.2880     8.4   Jan  A_Bangalore          3\n",
       "4      4  373-73-7910       0     0              1       1             5       86.31         7  30.2085       634.3785 2019-02-08  10:37             2      604.17       30.2085     5.3   Feb  A_Bangalore          2"
      ]
     },
     "execution_count": 147,
     "metadata": {},
     "output_type": "execute_result"
    }
   ],
   "source": [
    "data_df[\"Rating_Cat\"] = pd.cut(data_df['Rating'], [0,4,8,10], labels=[1,2,3])\n",
    "data_df.head()"
   ]
  },
  {
   "cell_type": "code",
   "execution_count": 148,
   "id": "7bd4237a",
   "metadata": {
    "scrolled": true
   },
   "outputs": [
    {
     "data": {
      "text/html": [
       "<div>\n",
       "<style scoped>\n",
       "    .dataframe tbody tr th:only-of-type {\n",
       "        vertical-align: middle;\n",
       "    }\n",
       "\n",
       "    .dataframe tbody tr th {\n",
       "        vertical-align: top;\n",
       "    }\n",
       "\n",
       "    .dataframe thead th {\n",
       "        text-align: right;\n",
       "    }\n",
       "</style>\n",
       "<table border=\"1\" class=\"dataframe\">\n",
       "  <thead>\n",
       "    <tr style=\"text-align: right;\">\n",
       "      <th></th>\n",
       "      <th>index</th>\n",
       "      <th>Invoice ID</th>\n",
       "      <th>Branch</th>\n",
       "      <th>City</th>\n",
       "      <th>Customer Type</th>\n",
       "      <th>Gender</th>\n",
       "      <th>Product Type</th>\n",
       "      <th>Unit Price</th>\n",
       "      <th>Quantity</th>\n",
       "      <th>Tax</th>\n",
       "      <th>Selling Price</th>\n",
       "      <th>Date</th>\n",
       "      <th>Time</th>\n",
       "      <th>Payment Type</th>\n",
       "      <th>Cost Price</th>\n",
       "      <th>Gross Income</th>\n",
       "      <th>Rating</th>\n",
       "      <th>Month</th>\n",
       "      <th>City_Branch</th>\n",
       "      <th>Rating_Cat</th>\n",
       "    </tr>\n",
       "  </thead>\n",
       "  <tbody>\n",
       "    <tr>\n",
       "      <th>0</th>\n",
       "      <td>0</td>\n",
       "      <td>750-67-8428</td>\n",
       "      <td>0</td>\n",
       "      <td>0</td>\n",
       "      <td>0</td>\n",
       "      <td>0</td>\n",
       "      <td>3</td>\n",
       "      <td>74.69</td>\n",
       "      <td>7</td>\n",
       "      <td>26.1415</td>\n",
       "      <td>548.9715</td>\n",
       "      <td>2019-01-05</td>\n",
       "      <td>13:08</td>\n",
       "      <td>2</td>\n",
       "      <td>522.83</td>\n",
       "      <td>6</td>\n",
       "      <td>9.1</td>\n",
       "      <td>Jan</td>\n",
       "      <td>A_Bangalore</td>\n",
       "      <td>3</td>\n",
       "    </tr>\n",
       "    <tr>\n",
       "      <th>1</th>\n",
       "      <td>1</td>\n",
       "      <td>226-31-3081</td>\n",
       "      <td>2</td>\n",
       "      <td>2</td>\n",
       "      <td>1</td>\n",
       "      <td>0</td>\n",
       "      <td>0</td>\n",
       "      <td>15.28</td>\n",
       "      <td>5</td>\n",
       "      <td>3.8200</td>\n",
       "      <td>80.2200</td>\n",
       "      <td>2019-03-08</td>\n",
       "      <td>10:29</td>\n",
       "      <td>0</td>\n",
       "      <td>76.40</td>\n",
       "      <td>1</td>\n",
       "      <td>9.6</td>\n",
       "      <td>Mar</td>\n",
       "      <td>C_Mysore</td>\n",
       "      <td>3</td>\n",
       "    </tr>\n",
       "    <tr>\n",
       "      <th>2</th>\n",
       "      <td>2</td>\n",
       "      <td>631-41-3108</td>\n",
       "      <td>0</td>\n",
       "      <td>0</td>\n",
       "      <td>1</td>\n",
       "      <td>1</td>\n",
       "      <td>4</td>\n",
       "      <td>46.33</td>\n",
       "      <td>7</td>\n",
       "      <td>16.2155</td>\n",
       "      <td>340.5255</td>\n",
       "      <td>2019-03-03</td>\n",
       "      <td>13:23</td>\n",
       "      <td>1</td>\n",
       "      <td>324.31</td>\n",
       "      <td>4</td>\n",
       "      <td>7.4</td>\n",
       "      <td>Mar</td>\n",
       "      <td>A_Bangalore</td>\n",
       "      <td>2</td>\n",
       "    </tr>\n",
       "    <tr>\n",
       "      <th>3</th>\n",
       "      <td>3</td>\n",
       "      <td>123-19-1176</td>\n",
       "      <td>0</td>\n",
       "      <td>0</td>\n",
       "      <td>0</td>\n",
       "      <td>1</td>\n",
       "      <td>3</td>\n",
       "      <td>58.22</td>\n",
       "      <td>8</td>\n",
       "      <td>23.2880</td>\n",
       "      <td>489.0480</td>\n",
       "      <td>2019-01-27</td>\n",
       "      <td>20:33</td>\n",
       "      <td>2</td>\n",
       "      <td>465.76</td>\n",
       "      <td>5</td>\n",
       "      <td>8.4</td>\n",
       "      <td>Jan</td>\n",
       "      <td>A_Bangalore</td>\n",
       "      <td>3</td>\n",
       "    </tr>\n",
       "    <tr>\n",
       "      <th>4</th>\n",
       "      <td>4</td>\n",
       "      <td>373-73-7910</td>\n",
       "      <td>0</td>\n",
       "      <td>0</td>\n",
       "      <td>1</td>\n",
       "      <td>1</td>\n",
       "      <td>5</td>\n",
       "      <td>86.31</td>\n",
       "      <td>7</td>\n",
       "      <td>30.2085</td>\n",
       "      <td>634.3785</td>\n",
       "      <td>2019-02-08</td>\n",
       "      <td>10:37</td>\n",
       "      <td>2</td>\n",
       "      <td>604.17</td>\n",
       "      <td>NaN</td>\n",
       "      <td>5.3</td>\n",
       "      <td>Feb</td>\n",
       "      <td>A_Bangalore</td>\n",
       "      <td>2</td>\n",
       "    </tr>\n",
       "  </tbody>\n",
       "</table>\n",
       "</div>"
      ],
      "text/plain": [
       "   index   Invoice ID  Branch  City  Customer Type  Gender  Product Type  Unit Price  Quantity     Tax   Selling Price       Date   Time  Payment Type  Cost Price Gross Income  Rating Month  City_Branch Rating_Cat\n",
       "0      0  750-67-8428       0     0              0       0             3       74.69         7  26.1415       548.9715 2019-01-05  13:08             2      522.83            6     9.1   Jan  A_Bangalore          3\n",
       "1      1  226-31-3081       2     2              1       0             0       15.28         5   3.8200        80.2200 2019-03-08  10:29             0       76.40            1     9.6   Mar     C_Mysore          3\n",
       "2      2  631-41-3108       0     0              1       1             4       46.33         7  16.2155       340.5255 2019-03-03  13:23             1      324.31            4     7.4   Mar  A_Bangalore          2\n",
       "3      3  123-19-1176       0     0              0       1             3       58.22         8  23.2880       489.0480 2019-01-27  20:33             2      465.76            5     8.4   Jan  A_Bangalore          3\n",
       "4      4  373-73-7910       0     0              1       1             5       86.31         7  30.2085       634.3785 2019-02-08  10:37             2      604.17          NaN     5.3   Feb  A_Bangalore          2"
      ]
     },
     "execution_count": 148,
     "metadata": {},
     "output_type": "execute_result"
    }
   ],
   "source": [
    "data_df[\"Gross Income\"] = pd.cut(data_df['Gross Income'], [0,5,10,15,20,25,30], labels=[1,2,3,4,5,6])\n",
    "data_df.head()"
   ]
  },
  {
   "cell_type": "markdown",
   "id": "5b8ee030",
   "metadata": {},
   "source": [
    "<b>Before 09 is early Morning , 9am to 1 pm is morning , 1pm to 5pm Afternoon and After 5pm Evening<b/>\n",
    "\n"
   ]
  },
  {
   "cell_type": "code",
   "execution_count": 149,
   "id": "aa1583db",
   "metadata": {},
   "outputs": [
    {
     "data": {
      "text/html": [
       "<div>\n",
       "<style scoped>\n",
       "    .dataframe tbody tr th:only-of-type {\n",
       "        vertical-align: middle;\n",
       "    }\n",
       "\n",
       "    .dataframe tbody tr th {\n",
       "        vertical-align: top;\n",
       "    }\n",
       "\n",
       "    .dataframe thead th {\n",
       "        text-align: right;\n",
       "    }\n",
       "</style>\n",
       "<table border=\"1\" class=\"dataframe\">\n",
       "  <thead>\n",
       "    <tr style=\"text-align: right;\">\n",
       "      <th></th>\n",
       "      <th>index</th>\n",
       "      <th>Invoice ID</th>\n",
       "      <th>Branch</th>\n",
       "      <th>City</th>\n",
       "      <th>Customer Type</th>\n",
       "      <th>Gender</th>\n",
       "      <th>Product Type</th>\n",
       "      <th>Unit Price</th>\n",
       "      <th>Quantity</th>\n",
       "      <th>Tax</th>\n",
       "      <th>Selling Price</th>\n",
       "      <th>Date</th>\n",
       "      <th>Time</th>\n",
       "      <th>Payment Type</th>\n",
       "      <th>Cost Price</th>\n",
       "      <th>Gross Income</th>\n",
       "      <th>Rating</th>\n",
       "      <th>Month</th>\n",
       "      <th>City_Branch</th>\n",
       "      <th>Rating_Cat</th>\n",
       "    </tr>\n",
       "  </thead>\n",
       "  <tbody>\n",
       "    <tr>\n",
       "      <th>0</th>\n",
       "      <td>0</td>\n",
       "      <td>750-67-8428</td>\n",
       "      <td>0</td>\n",
       "      <td>0</td>\n",
       "      <td>0</td>\n",
       "      <td>0</td>\n",
       "      <td>3</td>\n",
       "      <td>74.69</td>\n",
       "      <td>7</td>\n",
       "      <td>26.1415</td>\n",
       "      <td>548.9715</td>\n",
       "      <td>2019-01-05</td>\n",
       "      <td>3</td>\n",
       "      <td>2</td>\n",
       "      <td>522.83</td>\n",
       "      <td>6</td>\n",
       "      <td>9.1</td>\n",
       "      <td>Jan</td>\n",
       "      <td>A_Bangalore</td>\n",
       "      <td>3</td>\n",
       "    </tr>\n",
       "    <tr>\n",
       "      <th>1</th>\n",
       "      <td>1</td>\n",
       "      <td>226-31-3081</td>\n",
       "      <td>2</td>\n",
       "      <td>2</td>\n",
       "      <td>1</td>\n",
       "      <td>0</td>\n",
       "      <td>0</td>\n",
       "      <td>15.28</td>\n",
       "      <td>5</td>\n",
       "      <td>3.8200</td>\n",
       "      <td>80.2200</td>\n",
       "      <td>2019-03-08</td>\n",
       "      <td>2</td>\n",
       "      <td>0</td>\n",
       "      <td>76.40</td>\n",
       "      <td>1</td>\n",
       "      <td>9.6</td>\n",
       "      <td>Mar</td>\n",
       "      <td>C_Mysore</td>\n",
       "      <td>3</td>\n",
       "    </tr>\n",
       "    <tr>\n",
       "      <th>2</th>\n",
       "      <td>2</td>\n",
       "      <td>631-41-3108</td>\n",
       "      <td>0</td>\n",
       "      <td>0</td>\n",
       "      <td>1</td>\n",
       "      <td>1</td>\n",
       "      <td>4</td>\n",
       "      <td>46.33</td>\n",
       "      <td>7</td>\n",
       "      <td>16.2155</td>\n",
       "      <td>340.5255</td>\n",
       "      <td>2019-03-03</td>\n",
       "      <td>3</td>\n",
       "      <td>1</td>\n",
       "      <td>324.31</td>\n",
       "      <td>4</td>\n",
       "      <td>7.4</td>\n",
       "      <td>Mar</td>\n",
       "      <td>A_Bangalore</td>\n",
       "      <td>2</td>\n",
       "    </tr>\n",
       "    <tr>\n",
       "      <th>3</th>\n",
       "      <td>3</td>\n",
       "      <td>123-19-1176</td>\n",
       "      <td>0</td>\n",
       "      <td>0</td>\n",
       "      <td>0</td>\n",
       "      <td>1</td>\n",
       "      <td>3</td>\n",
       "      <td>58.22</td>\n",
       "      <td>8</td>\n",
       "      <td>23.2880</td>\n",
       "      <td>489.0480</td>\n",
       "      <td>2019-01-27</td>\n",
       "      <td>4</td>\n",
       "      <td>2</td>\n",
       "      <td>465.76</td>\n",
       "      <td>5</td>\n",
       "      <td>8.4</td>\n",
       "      <td>Jan</td>\n",
       "      <td>A_Bangalore</td>\n",
       "      <td>3</td>\n",
       "    </tr>\n",
       "    <tr>\n",
       "      <th>4</th>\n",
       "      <td>4</td>\n",
       "      <td>373-73-7910</td>\n",
       "      <td>0</td>\n",
       "      <td>0</td>\n",
       "      <td>1</td>\n",
       "      <td>1</td>\n",
       "      <td>5</td>\n",
       "      <td>86.31</td>\n",
       "      <td>7</td>\n",
       "      <td>30.2085</td>\n",
       "      <td>634.3785</td>\n",
       "      <td>2019-02-08</td>\n",
       "      <td>2</td>\n",
       "      <td>2</td>\n",
       "      <td>604.17</td>\n",
       "      <td>NaN</td>\n",
       "      <td>5.3</td>\n",
       "      <td>Feb</td>\n",
       "      <td>A_Bangalore</td>\n",
       "      <td>2</td>\n",
       "    </tr>\n",
       "  </tbody>\n",
       "</table>\n",
       "</div>"
      ],
      "text/plain": [
       "   index   Invoice ID  Branch  City  Customer Type  Gender  Product Type  Unit Price  Quantity     Tax   Selling Price       Date  Time  Payment Type  Cost Price Gross Income  Rating Month  City_Branch Rating_Cat\n",
       "0      0  750-67-8428       0     0              0       0             3       74.69         7  26.1415       548.9715 2019-01-05     3             2      522.83            6     9.1   Jan  A_Bangalore          3\n",
       "1      1  226-31-3081       2     2              1       0             0       15.28         5   3.8200        80.2200 2019-03-08     2             0       76.40            1     9.6   Mar     C_Mysore          3\n",
       "2      2  631-41-3108       0     0              1       1             4       46.33         7  16.2155       340.5255 2019-03-03     3             1      324.31            4     7.4   Mar  A_Bangalore          2\n",
       "3      3  123-19-1176       0     0              0       1             3       58.22         8  23.2880       489.0480 2019-01-27     4             2      465.76            5     8.4   Jan  A_Bangalore          3\n",
       "4      4  373-73-7910       0     0              1       1             5       86.31         7  30.2085       634.3785 2019-02-08     2             2      604.17          NaN     5.3   Feb  A_Bangalore          2"
      ]
     },
     "execution_count": 149,
     "metadata": {},
     "output_type": "execute_result"
    }
   ],
   "source": [
    "Time10=\"09:00\"\n",
    "Time14=\"13:00\"\n",
    "Time18=\"17:00\"\n",
    "\n",
    "\n",
    "Time10 = datetime.datetime.strptime(Time10, '%H:%M')\n",
    "Time10 = datetime.time(Time10.hour, Time10.minute)\n",
    "Time14 = datetime.datetime.strptime(Time14, '%H:%M')\n",
    "Time14 = datetime.time(Time14.hour, Time14.minute)\n",
    "Time18 = datetime.datetime.strptime(Time18, '%H:%M')\n",
    "Time18 = datetime.time(Time18.hour, Time18.minute)\n",
    "\n",
    "def Time_Details(x):\n",
    "    \n",
    "      x = datetime.datetime.strptime(x, '%H:%M')\n",
    "      x = datetime.time(x.hour, x.minute)\n",
    "      if x <= Time10:\n",
    "          return 1\n",
    "      elif (x > Time10 and x <= Time14):\n",
    "        return 2\n",
    "      elif (x > Time14 and x <= Time18):\n",
    "        return 3\n",
    "      elif (x > Time18):\n",
    "        return 4\n",
    "      else:\n",
    "          return 0\n",
    "data_df['Time'] = data_df['Time'].apply(Time_Details)\n",
    "data_df.head()\n"
   ]
  },
  {
   "cell_type": "markdown",
   "id": "f69b0ae9",
   "metadata": {},
   "source": [
    "<b>Few attributes are dropped which are not at all required our prediction model<b/>"
   ]
  },
  {
   "cell_type": "code",
   "execution_count": 150,
   "id": "58b2dec0",
   "metadata": {},
   "outputs": [
    {
     "name": "stdout",
     "output_type": "stream",
     "text": [
      "Index(['Branch', 'City', 'Customer Type', 'Gender', 'Product Type', 'Quantity',\n",
      "       'Time', 'Payment Type', 'Gross Income', 'Rating', 'Rating_Cat'],\n",
      "      dtype='object')\n",
      "   Branch  City  Customer Type  Gender  Product Type  Quantity  Time  Payment Type Gross Income  Rating Rating_Cat\n",
      "0       0     0              0       0             3         7     3             2            6     9.1          3\n",
      "1       2     2              1       0             0         5     2             0            1     9.6          3\n",
      "2       0     0              1       1             4         7     3             1            4     7.4          2\n",
      "3       0     0              0       1             3         8     4             2            5     8.4          3\n",
      "5       2     2              1       1             0         7     4             2            6     4.1          2\n"
     ]
    }
   ],
   "source": [
    "data_df_bkp=data_df.copy(deep=True)\n",
    "data_df = data_df.drop(['Invoice ID', 'Unit Price', 'Selling Price', 'Tax ', 'Date', 'Cost Price', 'City_Branch', 'index' , 'Month'], axis=1)\n",
    "data_df=data_df.dropna()\n",
    "print(data_df.columns)\n",
    "print(data_df.head())"
   ]
  },
  {
   "cell_type": "code",
   "execution_count": 151,
   "id": "c1832ba5",
   "metadata": {},
   "outputs": [
    {
     "name": "stdout",
     "output_type": "stream",
     "text": [
      "   Branch  City  Customer Type  Gender  Product Type  Quantity  Time  Payment Type Gross Income  Rating Rating_Cat\n",
      "0       0     0              0       0             3         7     3             2            6     9.1          3\n",
      "1       2     2              1       0             0         5     2             0            1     9.6          3\n",
      "2       0     0              1       1             4         7     3             1            4     7.4          2\n",
      "3       0     0              0       1             3         8     4             2            5     8.4          3\n",
      "5       2     2              1       1             0         7     4             2            6     4.1          2\n"
     ]
    }
   ],
   "source": [
    "print(data_df.head())"
   ]
  },
  {
   "cell_type": "code",
   "execution_count": 152,
   "id": "52771e41",
   "metadata": {},
   "outputs": [],
   "source": [
    "data_df.to_csv('data_df_dump.csv', header=True,index=False)"
   ]
  },
  {
   "cell_type": "code",
   "execution_count": 153,
   "id": "89193502",
   "metadata": {},
   "outputs": [],
   "source": [
    "data_df_FemaleCustomers = data_df[data_df['Gender'] == 1]"
   ]
  },
  {
   "cell_type": "code",
   "execution_count": 154,
   "id": "778b2b59",
   "metadata": {},
   "outputs": [
    {
     "name": "stdout",
     "output_type": "stream",
     "text": [
      "    Branch  City  Customer Type  Gender  Product Type  Quantity  Time  Payment Type Gross Income  Rating Rating_Cat\n",
      "2        0     0              1       1             4         7     3             1            4     7.4          2\n",
      "3        0     0              0       1             3         8     4             2            5     8.4          3\n",
      "5        2     2              1       1             0         7     4             2            6     4.1          2\n",
      "11       1     1              0       1             0         4     4             0            2     6.8          2\n",
      "13       0     0              1       1             2        10     3             2            5     8.2          3\n"
     ]
    }
   ],
   "source": [
    "print(data_df_FemaleCustomers.head())"
   ]
  },
  {
   "cell_type": "code",
   "execution_count": 155,
   "id": "0c972bd2",
   "metadata": {},
   "outputs": [
    {
     "data": {
      "text/plain": [
       "(863, 11)"
      ]
     },
     "execution_count": 155,
     "metadata": {},
     "output_type": "execute_result"
    }
   ],
   "source": [
    "data_df.shape"
   ]
  },
  {
   "cell_type": "markdown",
   "id": "8f3f7586",
   "metadata": {},
   "source": [
    "<b>Which Product type has been more purchased by female customers</b>"
   ]
  },
  {
   "cell_type": "code",
   "execution_count": 156,
   "id": "3aae59d9",
   "metadata": {},
   "outputs": [
    {
     "name": "stdout",
     "output_type": "stream",
     "text": [
      "Product Purchased by Female Customer mostly at what time\n",
      "2 : Morning\n",
      "3 : Afternoon\n",
      "4 : Evening\n",
      "--------------------------------------------------------------------------------------------------------\n",
      "4    166\n",
      "3    164\n",
      "2    104\n",
      "Name: Time, dtype: int64\n"
     ]
    },
    {
     "data": {
      "image/png": "[encoded data removed]",
      "text/plain": [
       "<Figure size 432x288 with 1 Axes>"
      ]
     },
     "metadata": {
      "needs_background": "light"
     },
     "output_type": "display_data"
    }
   ],
   "source": [
    "print('Product Purchased by Female Customer mostly at what time')\n",
    "print(\"2 : Morning\")\n",
    "print(\"3 : Afternoon\")\n",
    "print(\"4 : Evening\")\n",
    "print(\"--------------------------------------------------------------------------------------------------------\")\n",
    "print(data_df_FemaleCustomers['Time'].value_counts(ascending=False))\n",
    "ax = sns.countplot(x=\"Time\", data=data_df_FemaleCustomers)\n",
    "ax.set_xlabel(\"Time\", fontsize=20)\n",
    "ax.set_ylabel(\"count\", fontsize=20)\n",
    "plt.tight_layout()\n",
    "plt.show()"
   ]
  },
  {
   "cell_type": "code",
   "execution_count": 157,
   "id": "51e401b3",
   "metadata": {},
   "outputs": [
    {
     "data": {
      "text/plain": [
       "Index(['Branch', 'City', 'Customer Type', 'Gender', 'Product Type', 'Quantity',\n",
       "       'Time', 'Payment Type', 'Gross Income', 'Rating', 'Rating_Cat'],\n",
       "      dtype='object')"
      ]
     },
     "execution_count": 157,
     "metadata": {},
     "output_type": "execute_result"
    }
   ],
   "source": [
    "data_df.columns"
   ]
  },
  {
   "cell_type": "markdown",
   "id": "70d9bf76",
   "metadata": {},
   "source": [
    "<b>Below section will perform the K-means clustering and visualize the clusters through elbow method<b/>"
   ]
  },
  {
   "cell_type": "code",
   "execution_count": 158,
   "id": "4b3a17fd",
   "metadata": {},
   "outputs": [],
   "source": [
    "Final_training_data_cluster=data_df[['Branch', 'City', 'Customer Type', 'Gender', 'Product Type', 'Quantity',\n",
    "       'Time', 'Payment Type', 'Gross Income', 'Rating']]"
   ]
  },
  {
   "cell_type": "code",
   "execution_count": 159,
   "id": "ad3bc326",
   "metadata": {},
   "outputs": [],
   "source": [
    "from matplotlib import pyplot as plt\n",
    "from sklearn.cluster import KMeans"
   ]
  },
  {
   "cell_type": "code",
   "execution_count": 160,
   "id": "a0e3d7a3",
   "metadata": {},
   "outputs": [],
   "source": [
    "X=Final_training_data_cluster.drop(['Time'], axis=1)"
   ]
  },
  {
   "cell_type": "code",
   "execution_count": 161,
   "id": "91077ff7",
   "metadata": {},
   "outputs": [
    {
     "data": {
      "image/png": "[encoded data removed]",
      "text/plain": [
       "<Figure size 432x288 with 1 Axes>"
      ]
     },
     "metadata": {
      "needs_background": "light"
     },
     "output_type": "display_data"
    }
   ],
   "source": [
    "import warnings\n",
    "warnings.filterwarnings('ignore')\n",
    "cost_list = []\n",
    "for i in range(1, 4):\n",
    "    kmeans = KMeans(n_clusters=i, init='k-means++', max_iter=2000, n_init=100, random_state=10)\n",
    "    kmeans.fit(X)\n",
    "    cost_list.append(kmeans.inertia_)\n",
    "plt.plot(range(1, 4), cost_list)\n",
    "plt.title('Elbow Method')\n",
    "plt.xlabel('Number of clusters')\n",
    "plt.ylabel('Cost')\n",
    "plt.show()"
   ]
  },
  {
   "cell_type": "code",
   "execution_count": 162,
   "id": "672eadb9",
   "metadata": {},
   "outputs": [],
   "source": [
    "kmeans = KMeans(n_clusters=3, init='k-means++', max_iter=2000, n_init=100, random_state=10)\n",
    "pred_cluster = kmeans.fit_predict(X)"
   ]
  },
  {
   "cell_type": "code",
   "execution_count": 163,
   "id": "85a445f4",
   "metadata": {},
   "outputs": [],
   "source": [
    "pred_cluster=list(pred_cluster)"
   ]
  },
  {
   "cell_type": "markdown",
   "id": "b89641ba",
   "metadata": {},
   "source": [
    "<b>Principal component analysis along with cosine similarity<b/>"
   ]
  },
  {
   "cell_type": "code",
   "execution_count": 164,
   "id": "7a3455b0",
   "metadata": {},
   "outputs": [],
   "source": [
    "from sklearn.decomposition import PCA\n",
    "from sklearn.metrics.pairwise import cosine_similarity\n",
    "\n",
    "dist = 1 - cosine_similarity(X)\n",
    "pca = PCA(n_components=3).fit(dist)\n",
    "pca_2d=pca.transform(dist)"
   ]
  },
  {
   "cell_type": "code",
   "execution_count": 165,
   "id": "c954dadb",
   "metadata": {},
   "outputs": [
    {
     "data": {
      "text/plain": [
       "array([[-1.10756553, -0.92728326,  0.121379  ],\n",
       "       [ 0.90577826, -0.26452009, -1.46041947],\n",
       "       [-1.33771643, -0.8446314 ,  0.73332228],\n",
       "       ...,\n",
       "       [ 3.11177498,  1.13144498,  0.4036156 ],\n",
       "       [ 3.30376476,  0.85472599, -0.40765061],\n",
       "       [ 2.60706496,  2.73395385,  1.77144715]])"
      ]
     },
     "execution_count": 165,
     "metadata": {},
     "output_type": "execute_result"
    }
   ],
   "source": [
    "pca_2d"
   ]
  },
  {
   "cell_type": "code",
   "execution_count": 166,
   "id": "66db2741",
   "metadata": {},
   "outputs": [
    {
     "data": {
      "image/png": "[encoded data removed]",
      "text/plain": [
       "<Figure size 1080x1080 with 1 Axes>"
      ]
     },
     "metadata": {
      "needs_background": "light"
     },
     "output_type": "display_data"
    }
   ],
   "source": [
    "x, y, z = pca_2d[:, 0], pca_2d[:, 1], pca_2d[:, 2]\n",
    "\n",
    "colors = {0: 'red',\n",
    "          1: 'blue',\n",
    "          2: 'yellow'}\n",
    "\n",
    "names = {0: 'Cluster 0', \n",
    "         1: 'Cluster 1', \n",
    "         2: 'Cluster 2'}\n",
    "  \n",
    "df = pd.DataFrame({'x': x, 'y':y,'z':z, 'label':pred_cluster}) \n",
    "groups = df.groupby('label')\n",
    "\n",
    "fig = plt.figure(figsize = (15,15))\n",
    "ax = fig.add_subplot(111, projection='3d')\n",
    "\n",
    "for name, group in groups:\n",
    "    ax.plot(group.x, group.y, group.z, marker='o', linestyle='', ms=5,\n",
    "            color=colors[name],label=names[name], mec='none')\n",
    "    ax.set_aspect('auto')\n",
    "    ax.tick_params(axis='x',which='both',bottom='off',top='off',labelbottom='off')\n",
    "    ax.tick_params(axis= 'y',which='both',left='off',top='off',labelleft='off')\n",
    "    ax.tick_params(axis= 'z',which='both',left='off',top='off',labelleft='off')\n",
    "    \n",
    "ax.legend()\n",
    "ax.set_title(\"Supermarket analysis dataset into 4 clusters\")\n",
    "plt.show()"
   ]
  },
  {
   "cell_type": "markdown",
   "id": "47d68c10",
   "metadata": {},
   "source": [
    "<b>FEATURE SELECTION USING CHI2, MUTUAL INFO SHARING in order to pick top 5 features<b/>"
   ]
  },
  {
   "cell_type": "code",
   "execution_count": 167,
   "id": "cf3348e5",
   "metadata": {},
   "outputs": [],
   "source": [
    "from sklearn.model_selection import train_test_split\n",
    "from sklearn.feature_selection import SelectKBest\n",
    "from sklearn.feature_selection import f_classif,chi2\n",
    "from sklearn.feature_selection import mutual_info_classif\n",
    "from matplotlib import pyplot\n",
    "import seaborn as sns\n",
    "from sklearn.pipeline import Pipeline\n",
    "from sklearn.model_selection import RepeatedStratifiedKFold\n",
    "from sklearn.model_selection import cross_val_score\n",
    "from sklearn.feature_selection import RFE\n",
    "from sklearn.neighbors import KNeighborsClassifier\n",
    "import numpy as np\n",
    "import matplotlib.pyplot as plt\n",
    "import warnings\n",
    "warnings.filterwarnings('ignore')\n",
    "from sklearn.linear_model import LogisticRegression\n",
    "from sklearn.ensemble import GradientBoostingClassifier\n",
    "from sklearn.ensemble import RandomForestClassifier\n",
    "from sklearn.model_selection import StratifiedKFold\n",
    "from sklearn.feature_selection import RFECV"
   ]
  },
  {
   "cell_type": "code",
   "execution_count": 168,
   "id": "bf1cb7cf",
   "metadata": {},
   "outputs": [
    {
     "data": {
      "text/html": [
       "<div>\n",
       "<style scoped>\n",
       "    .dataframe tbody tr th:only-of-type {\n",
       "        vertical-align: middle;\n",
       "    }\n",
       "\n",
       "    .dataframe tbody tr th {\n",
       "        vertical-align: top;\n",
       "    }\n",
       "\n",
       "    .dataframe thead th {\n",
       "        text-align: right;\n",
       "    }\n",
       "</style>\n",
       "<table border=\"1\" class=\"dataframe\">\n",
       "  <thead>\n",
       "    <tr style=\"text-align: right;\">\n",
       "      <th></th>\n",
       "      <th>Branch</th>\n",
       "      <th>City</th>\n",
       "      <th>Customer Type</th>\n",
       "      <th>Gender</th>\n",
       "      <th>Product Type</th>\n",
       "      <th>Quantity</th>\n",
       "      <th>Time</th>\n",
       "      <th>Payment Type</th>\n",
       "      <th>Gross Income</th>\n",
       "      <th>Rating</th>\n",
       "      <th>Rating_Cat</th>\n",
       "    </tr>\n",
       "  </thead>\n",
       "  <tbody>\n",
       "    <tr>\n",
       "      <th>0</th>\n",
       "      <td>0</td>\n",
       "      <td>0</td>\n",
       "      <td>0</td>\n",
       "      <td>0</td>\n",
       "      <td>3</td>\n",
       "      <td>7</td>\n",
       "      <td>3</td>\n",
       "      <td>2</td>\n",
       "      <td>6</td>\n",
       "      <td>9.1</td>\n",
       "      <td>3</td>\n",
       "    </tr>\n",
       "    <tr>\n",
       "      <th>1</th>\n",
       "      <td>2</td>\n",
       "      <td>2</td>\n",
       "      <td>1</td>\n",
       "      <td>0</td>\n",
       "      <td>0</td>\n",
       "      <td>5</td>\n",
       "      <td>2</td>\n",
       "      <td>0</td>\n",
       "      <td>1</td>\n",
       "      <td>9.6</td>\n",
       "      <td>3</td>\n",
       "    </tr>\n",
       "    <tr>\n",
       "      <th>2</th>\n",
       "      <td>0</td>\n",
       "      <td>0</td>\n",
       "      <td>1</td>\n",
       "      <td>1</td>\n",
       "      <td>4</td>\n",
       "      <td>7</td>\n",
       "      <td>3</td>\n",
       "      <td>1</td>\n",
       "      <td>4</td>\n",
       "      <td>7.4</td>\n",
       "      <td>2</td>\n",
       "    </tr>\n",
       "    <tr>\n",
       "      <th>3</th>\n",
       "      <td>0</td>\n",
       "      <td>0</td>\n",
       "      <td>0</td>\n",
       "      <td>1</td>\n",
       "      <td>3</td>\n",
       "      <td>8</td>\n",
       "      <td>4</td>\n",
       "      <td>2</td>\n",
       "      <td>5</td>\n",
       "      <td>8.4</td>\n",
       "      <td>3</td>\n",
       "    </tr>\n",
       "    <tr>\n",
       "      <th>5</th>\n",
       "      <td>2</td>\n",
       "      <td>2</td>\n",
       "      <td>1</td>\n",
       "      <td>1</td>\n",
       "      <td>0</td>\n",
       "      <td>7</td>\n",
       "      <td>4</td>\n",
       "      <td>2</td>\n",
       "      <td>6</td>\n",
       "      <td>4.1</td>\n",
       "      <td>2</td>\n",
       "    </tr>\n",
       "  </tbody>\n",
       "</table>\n",
       "</div>"
      ],
      "text/plain": [
       "   Branch  City  Customer Type  Gender  Product Type  Quantity  Time  Payment Type Gross Income  Rating Rating_Cat\n",
       "0       0     0              0       0             3         7     3             2            6     9.1          3\n",
       "1       2     2              1       0             0         5     2             0            1     9.6          3\n",
       "2       0     0              1       1             4         7     3             1            4     7.4          2\n",
       "3       0     0              0       1             3         8     4             2            5     8.4          3\n",
       "5       2     2              1       1             0         7     4             2            6     4.1          2"
      ]
     },
     "execution_count": 168,
     "metadata": {},
     "output_type": "execute_result"
    }
   ],
   "source": [
    "data_df.head()"
   ]
  },
  {
   "cell_type": "code",
   "execution_count": 169,
   "id": "b1611469",
   "metadata": {},
   "outputs": [
    {
     "data": {
      "text/plain": [
       "Index(['Branch', 'City', 'Customer Type', 'Gender', 'Product Type', 'Quantity',\n",
       "       'Time', 'Payment Type', 'Gross Income', 'Rating', 'Rating_Cat'],\n",
       "      dtype='object')"
      ]
     },
     "execution_count": 169,
     "metadata": {},
     "output_type": "execute_result"
    }
   ],
   "source": [
    "data_df.columns"
   ]
  },
  {
   "cell_type": "code",
   "execution_count": 170,
   "id": "de6c9f29",
   "metadata": {},
   "outputs": [
    {
     "data": {
      "text/html": [
       "<div>\n",
       "<style scoped>\n",
       "    .dataframe tbody tr th:only-of-type {\n",
       "        vertical-align: middle;\n",
       "    }\n",
       "\n",
       "    .dataframe tbody tr th {\n",
       "        vertical-align: top;\n",
       "    }\n",
       "\n",
       "    .dataframe thead th {\n",
       "        text-align: right;\n",
       "    }\n",
       "</style>\n",
       "<table border=\"1\" class=\"dataframe\">\n",
       "  <thead>\n",
       "    <tr style=\"text-align: right;\">\n",
       "      <th></th>\n",
       "      <th>Branch</th>\n",
       "      <th>City</th>\n",
       "      <th>Customer Type</th>\n",
       "      <th>Gender</th>\n",
       "      <th>Product Type</th>\n",
       "      <th>Quantity</th>\n",
       "      <th>Time</th>\n",
       "      <th>Payment Type</th>\n",
       "      <th>Gross Income</th>\n",
       "      <th>Rating_Cat</th>\n",
       "    </tr>\n",
       "  </thead>\n",
       "  <tbody>\n",
       "    <tr>\n",
       "      <th>0</th>\n",
       "      <td>0</td>\n",
       "      <td>0</td>\n",
       "      <td>0</td>\n",
       "      <td>0</td>\n",
       "      <td>3</td>\n",
       "      <td>7</td>\n",
       "      <td>3</td>\n",
       "      <td>2</td>\n",
       "      <td>6</td>\n",
       "      <td>3</td>\n",
       "    </tr>\n",
       "    <tr>\n",
       "      <th>1</th>\n",
       "      <td>2</td>\n",
       "      <td>2</td>\n",
       "      <td>1</td>\n",
       "      <td>0</td>\n",
       "      <td>0</td>\n",
       "      <td>5</td>\n",
       "      <td>2</td>\n",
       "      <td>0</td>\n",
       "      <td>1</td>\n",
       "      <td>3</td>\n",
       "    </tr>\n",
       "    <tr>\n",
       "      <th>2</th>\n",
       "      <td>0</td>\n",
       "      <td>0</td>\n",
       "      <td>1</td>\n",
       "      <td>1</td>\n",
       "      <td>4</td>\n",
       "      <td>7</td>\n",
       "      <td>3</td>\n",
       "      <td>1</td>\n",
       "      <td>4</td>\n",
       "      <td>2</td>\n",
       "    </tr>\n",
       "    <tr>\n",
       "      <th>3</th>\n",
       "      <td>0</td>\n",
       "      <td>0</td>\n",
       "      <td>0</td>\n",
       "      <td>1</td>\n",
       "      <td>3</td>\n",
       "      <td>8</td>\n",
       "      <td>4</td>\n",
       "      <td>2</td>\n",
       "      <td>5</td>\n",
       "      <td>3</td>\n",
       "    </tr>\n",
       "    <tr>\n",
       "      <th>5</th>\n",
       "      <td>2</td>\n",
       "      <td>2</td>\n",
       "      <td>1</td>\n",
       "      <td>1</td>\n",
       "      <td>0</td>\n",
       "      <td>7</td>\n",
       "      <td>4</td>\n",
       "      <td>2</td>\n",
       "      <td>6</td>\n",
       "      <td>2</td>\n",
       "    </tr>\n",
       "    <tr>\n",
       "      <th>...</th>\n",
       "      <td>...</td>\n",
       "      <td>...</td>\n",
       "      <td>...</td>\n",
       "      <td>...</td>\n",
       "      <td>...</td>\n",
       "      <td>...</td>\n",
       "      <td>...</td>\n",
       "      <td>...</td>\n",
       "      <td>...</td>\n",
       "      <td>...</td>\n",
       "    </tr>\n",
       "    <tr>\n",
       "      <th>993</th>\n",
       "      <td>1</td>\n",
       "      <td>1</td>\n",
       "      <td>1</td>\n",
       "      <td>1</td>\n",
       "      <td>1</td>\n",
       "      <td>10</td>\n",
       "      <td>4</td>\n",
       "      <td>2</td>\n",
       "      <td>2</td>\n",
       "      <td>2</td>\n",
       "    </tr>\n",
       "    <tr>\n",
       "      <th>994</th>\n",
       "      <td>2</td>\n",
       "      <td>2</td>\n",
       "      <td>0</td>\n",
       "      <td>0</td>\n",
       "      <td>0</td>\n",
       "      <td>1</td>\n",
       "      <td>2</td>\n",
       "      <td>2</td>\n",
       "      <td>1</td>\n",
       "      <td>2</td>\n",
       "    </tr>\n",
       "    <tr>\n",
       "      <th>995</th>\n",
       "      <td>2</td>\n",
       "      <td>2</td>\n",
       "      <td>1</td>\n",
       "      <td>1</td>\n",
       "      <td>3</td>\n",
       "      <td>1</td>\n",
       "      <td>3</td>\n",
       "      <td>2</td>\n",
       "      <td>1</td>\n",
       "      <td>2</td>\n",
       "    </tr>\n",
       "    <tr>\n",
       "      <th>997</th>\n",
       "      <td>0</td>\n",
       "      <td>0</td>\n",
       "      <td>0</td>\n",
       "      <td>1</td>\n",
       "      <td>2</td>\n",
       "      <td>1</td>\n",
       "      <td>3</td>\n",
       "      <td>0</td>\n",
       "      <td>1</td>\n",
       "      <td>2</td>\n",
       "    </tr>\n",
       "    <tr>\n",
       "      <th>998</th>\n",
       "      <td>0</td>\n",
       "      <td>0</td>\n",
       "      <td>1</td>\n",
       "      <td>1</td>\n",
       "      <td>4</td>\n",
       "      <td>1</td>\n",
       "      <td>3</td>\n",
       "      <td>0</td>\n",
       "      <td>1</td>\n",
       "      <td>2</td>\n",
       "    </tr>\n",
       "  </tbody>\n",
       "</table>\n",
       "<p>863 rows × 10 columns</p>\n",
       "</div>"
      ],
      "text/plain": [
       "     Branch  City  Customer Type  Gender  Product Type  Quantity  Time  Payment Type Gross Income Rating_Cat\n",
       "0         0     0              0       0             3         7     3             2            6          3\n",
       "1         2     2              1       0             0         5     2             0            1          3\n",
       "2         0     0              1       1             4         7     3             1            4          2\n",
       "3         0     0              0       1             3         8     4             2            5          3\n",
       "5         2     2              1       1             0         7     4             2            6          2\n",
       "..      ...   ...            ...     ...           ...       ...   ...           ...          ...        ...\n",
       "993       1     1              1       1             1        10     4             2            2          2\n",
       "994       2     2              0       0             0         1     2             2            1          2\n",
       "995       2     2              1       1             3         1     3             2            1          2\n",
       "997       0     0              0       1             2         1     3             0            1          2\n",
       "998       0     0              1       1             4         1     3             0            1          2\n",
       "\n",
       "[863 rows x 10 columns]"
      ]
     },
     "execution_count": 170,
     "metadata": {},
     "output_type": "execute_result"
    }
   ],
   "source": [
    "data_df.drop(['Rating'],axis = 1)"
   ]
  },
  {
   "cell_type": "code",
   "execution_count": 171,
   "id": "4272753b",
   "metadata": {},
   "outputs": [],
   "source": [
    "Final_training_data_new=data_df[['Branch', 'City', 'Customer Type', 'Gender', 'Product Type', 'Quantity',\n",
    "       'Time', 'Payment Type', 'Gross Income','Rating_Cat']]"
   ]
  },
  {
   "cell_type": "markdown",
   "id": "2351711d",
   "metadata": {},
   "source": [
    "<b>FEATURE SELECTION USING CHI2 METHODS for picking top 5 features and also visualized the top five features using bar plot<b/>"
   ]
  },
  {
   "cell_type": "code",
   "execution_count": 172,
   "id": "84951276",
   "metadata": {},
   "outputs": [
    {
     "name": "stdout",
     "output_type": "stream",
     "text": [
      "   Branch  City  Customer Type  Gender  Product Type  Quantity  Time  Payment Type Gross Income\n",
      "0       0     0              0       0             3         7     3             2            6\n",
      "1       2     2              1       0             0         5     2             0            1\n",
      "2       0     0              1       1             4         7     3             1            4\n",
      "3       0     0              0       1             3         8     4             2            5\n",
      "5       2     2              1       1             0         7     4             2            6\n",
      "Train Feature 0: 0.271082\n",
      "Train Feature Branch\n",
      "Train Feature 1: 0.271082\n",
      "Train Feature City\n",
      "Train Feature 2: 0.216635\n",
      "Train Feature Customer Type\n",
      "Train Feature 3: 0.189889\n",
      "Train Feature Gender\n",
      "Train Feature 4: 1.276205\n",
      "Train Feature Product Type\n",
      "Train Feature 5: 3.305136\n",
      "Train Feature Quantity\n",
      "Train Feature 6: 0.084739\n",
      "Train Feature Time\n",
      "Train Feature 7: 0.392694\n",
      "Train Feature Payment Type\n",
      "Train Feature 8: 2.535107\n",
      "Train Feature Gross Income\n",
      "['City', 'Product Type', 'Quantity', 'Payment Type', 'Gross Income']\n"
     ]
    },
    {
     "data": {
      "image/png": "[encoded data removed]",
      "text/plain": [
       "<Figure size 432x288 with 1 Axes>"
      ]
     },
     "metadata": {
      "needs_background": "light"
     },
     "output_type": "display_data"
    }
   ],
   "source": [
    "\n",
    "def select_features(X_train, y_train):\n",
    "\tfs = SelectKBest(score_func=chi2, k=5)\n",
    "\tfs.fit_transform(X_train, y_train)\n",
    "\treturn fs\n",
    "\n",
    "\n",
    "\n",
    "X = Final_training_data_new.drop(columns=['Rating_Cat'])\n",
    "print(X.head())\n",
    "y = Final_training_data_new[['Rating_Cat']]\n",
    "y=y.astype('int')\n",
    "\n",
    "fs = select_features(X, y)\n",
    "\n",
    "for i in range(len(fs.scores_)):\n",
    "    print('Train Feature %d: %f' % (i, fs.scores_[i]))\n",
    "    print('Train Feature',list(X.columns)[i])\n",
    "    \n",
    "\n",
    "selected_features_chi2 = list(X.columns[fs.get_support(indices=True)])\n",
    "print(selected_features_chi2)\n",
    "\n",
    "\n",
    "pyplot.bar([i for i in range(len(fs.scores_))], fs.scores_)\n",
    "pyplot.show()"
   ]
  },
  {
   "cell_type": "markdown",
   "id": "7360091b",
   "metadata": {},
   "source": [
    "<b>FEATURE SELECTION USING Mutual Info  for picking top 5 features and also visualized the top five features using bar plot<b/>"
   ]
  },
  {
   "cell_type": "code",
   "execution_count": 173,
   "id": "aeec2e6d",
   "metadata": {},
   "outputs": [
    {
     "name": "stdout",
     "output_type": "stream",
     "text": [
      "Train Feature 0: 0.008727\n",
      "Train Feature Branch\n",
      "Train Feature 1: 0.000000\n",
      "Train Feature City\n",
      "Train Feature 2: 0.007216\n",
      "Train Feature Customer Type\n",
      "Train Feature 3: 0.000000\n",
      "Train Feature Gender\n",
      "Train Feature 4: 0.017916\n",
      "Train Feature Product Type\n",
      "Train Feature 5: 0.007149\n",
      "Train Feature Quantity\n",
      "Train Feature 6: 0.000000\n",
      "Train Feature Time\n",
      "Train Feature 7: 0.000000\n",
      "Train Feature Payment Type\n",
      "Train Feature 8: 0.000000\n",
      "Train Feature Gross Income\n",
      "['Branch', 'Customer Type', 'Product Type', 'Quantity', 'Gross Income']\n"
     ]
    },
    {
     "data": {
      "image/png": "[encoded data removed]",
      "text/plain": [
       "<Figure size 432x288 with 1 Axes>"
      ]
     },
     "metadata": {
      "needs_background": "light"
     },
     "output_type": "display_data"
    }
   ],
   "source": [
    "\n",
    "def select_features(X_train, y_train):\n",
    "\tfs = SelectKBest(score_func=mutual_info_classif, k=5)\n",
    "\tfs.fit_transform(X_train, y_train)\n",
    "\treturn fs\n",
    "\n",
    "\n",
    "X = Final_training_data_new.drop(['Rating_Cat'], axis=1)\n",
    "y = Final_training_data_new[['Rating_Cat']]\n",
    "y=y.astype('int')\n",
    "\n",
    "fs = select_features(X, y)\n",
    "\n",
    "\n",
    "for i in range(len(fs.scores_)):\n",
    "    print('Train Feature %d: %f' % (i, fs.scores_[i]))\n",
    "    print('Train Feature',list(X.columns)[i])\n",
    "    \n",
    "\n",
    "selected_features_mutual_info = list(X.columns[fs.get_support(indices=True)])\n",
    "print(selected_features_mutual_info)\n",
    "\n",
    "\n",
    "pyplot.bar([i for i in range(len(fs.scores_))], fs.scores_)\n",
    "pyplot.show()"
   ]
  },
  {
   "cell_type": "code",
   "execution_count": 174,
   "id": "077ebf95",
   "metadata": {},
   "outputs": [
    {
     "data": {
      "text/plain": [
       "['City', 'Product Type', 'Quantity', 'Payment Type', 'Gross Income']"
      ]
     },
     "execution_count": 174,
     "metadata": {},
     "output_type": "execute_result"
    }
   ],
   "source": [
    "selected_features_chi2"
   ]
  },
  {
   "cell_type": "code",
   "execution_count": 175,
   "id": "39058cd0",
   "metadata": {},
   "outputs": [
    {
     "data": {
      "text/plain": [
       "['Branch', 'Customer Type', 'Product Type', 'Quantity', 'Gross Income']"
      ]
     },
     "execution_count": 175,
     "metadata": {},
     "output_type": "execute_result"
    }
   ],
   "source": [
    "selected_features_mutual_info"
   ]
  },
  {
   "cell_type": "code",
   "execution_count": 176,
   "id": "fde4d438",
   "metadata": {},
   "outputs": [],
   "source": [
    "final_features=selected_features_chi2+selected_features_mutual_info\n",
    "final_features=[feature for feature in final_features if feature!='Time']\n",
    "final_features=list(set(final_features))\n",
    "final_features.append('Quantity')\n"
   ]
  },
  {
   "cell_type": "code",
   "execution_count": 177,
   "id": "e51f6925",
   "metadata": {},
   "outputs": [
    {
     "data": {
      "text/plain": [
       "7.0     20\n",
       "6.6     19\n",
       "6.0     19\n",
       "5.0     19\n",
       "9.5     18\n",
       "        ..\n",
       "5.3     10\n",
       "4.0      9\n",
       "4.7      9\n",
       "4.6      8\n",
       "10.0     5\n",
       "Name: Rating, Length: 61, dtype: int64"
      ]
     },
     "execution_count": 177,
     "metadata": {},
     "output_type": "execute_result"
    }
   ],
   "source": [
    "data_df['Rating'].value_counts()"
   ]
  },
  {
   "cell_type": "code",
   "execution_count": 178,
   "id": "e3756dd8",
   "metadata": {},
   "outputs": [
    {
     "data": {
      "text/plain": [
       "Index(['Branch', 'City', 'Customer Type', 'Gender', 'Product Type', 'Quantity',\n",
       "       'Time', 'Payment Type', 'Gross Income', 'Rating', 'Rating_Cat'],\n",
       "      dtype='object')"
      ]
     },
     "execution_count": 178,
     "metadata": {},
     "output_type": "execute_result"
    }
   ],
   "source": [
    "data_df.columns"
   ]
  },
  {
   "cell_type": "code",
   "execution_count": 179,
   "id": "2052fa48",
   "metadata": {},
   "outputs": [
    {
     "data": {
      "text/plain": [
       "7.0     20\n",
       "6.6     19\n",
       "6.0     19\n",
       "5.0     19\n",
       "9.5     18\n",
       "        ..\n",
       "5.3     10\n",
       "4.0      9\n",
       "4.7      9\n",
       "4.6      8\n",
       "10.0     5\n",
       "Name: Rating, Length: 61, dtype: int64"
      ]
     },
     "execution_count": 179,
     "metadata": {},
     "output_type": "execute_result"
    }
   ],
   "source": [
    "data_df['Rating'].value_counts()"
   ]
  },
  {
   "cell_type": "code",
   "execution_count": 180,
   "id": "9e328415",
   "metadata": {},
   "outputs": [],
   "source": [
    "X = data_df[final_features]\n",
    "Y = data_df['Rating_Cat']\n",
    "Y=Y.astype('int')"
   ]
  },
  {
   "cell_type": "code",
   "execution_count": 181,
   "id": "72594816",
   "metadata": {},
   "outputs": [
    {
     "data": {
      "text/html": [
       "<div>\n",
       "<style scoped>\n",
       "    .dataframe tbody tr th:only-of-type {\n",
       "        vertical-align: middle;\n",
       "    }\n",
       "\n",
       "    .dataframe tbody tr th {\n",
       "        vertical-align: top;\n",
       "    }\n",
       "\n",
       "    .dataframe thead th {\n",
       "        text-align: right;\n",
       "    }\n",
       "</style>\n",
       "<table border=\"1\" class=\"dataframe\">\n",
       "  <thead>\n",
       "    <tr style=\"text-align: right;\">\n",
       "      <th></th>\n",
       "      <th>Product Type</th>\n",
       "      <th>Payment Type</th>\n",
       "      <th>City</th>\n",
       "      <th>Quantity</th>\n",
       "      <th>Gross Income</th>\n",
       "      <th>Branch</th>\n",
       "      <th>Customer Type</th>\n",
       "      <th>Quantity</th>\n",
       "    </tr>\n",
       "  </thead>\n",
       "  <tbody>\n",
       "    <tr>\n",
       "      <th>0</th>\n",
       "      <td>3</td>\n",
       "      <td>2</td>\n",
       "      <td>0</td>\n",
       "      <td>7</td>\n",
       "      <td>6</td>\n",
       "      <td>0</td>\n",
       "      <td>0</td>\n",
       "      <td>7</td>\n",
       "    </tr>\n",
       "    <tr>\n",
       "      <th>1</th>\n",
       "      <td>0</td>\n",
       "      <td>0</td>\n",
       "      <td>2</td>\n",
       "      <td>5</td>\n",
       "      <td>1</td>\n",
       "      <td>2</td>\n",
       "      <td>1</td>\n",
       "      <td>5</td>\n",
       "    </tr>\n",
       "  </tbody>\n",
       "</table>\n",
       "</div>"
      ],
      "text/plain": [
       "   Product Type  Payment Type  City  Quantity Gross Income  Branch  Customer Type  Quantity\n",
       "0             3             2     0         7            6       0              0         7\n",
       "1             0             0     2         5            1       2              1         5"
      ]
     },
     "execution_count": 181,
     "metadata": {},
     "output_type": "execute_result"
    }
   ],
   "source": [
    "X.head(2)"
   ]
  },
  {
   "cell_type": "markdown",
   "id": "ee2306bf",
   "metadata": {},
   "source": [
    "<b>Splitting the data set in which 80% will be used for trainig data and 20% for testing data<b/>"
   ]
  },
  {
   "cell_type": "code",
   "execution_count": 182,
   "id": "dc16c6a1",
   "metadata": {},
   "outputs": [],
   "source": [
    "from sklearn.model_selection import train_test_split\n",
    "from sklearn.feature_selection import SequentialFeatureSelector\n",
    "X=X.replace(np.nan,0)\n",
    "X_train, X_test, y_train, y_test = train_test_split(X, Y,test_size=0.15,random_state=1221)"
   ]
  },
  {
   "cell_type": "code",
   "execution_count": 183,
   "id": "5c80da54",
   "metadata": {},
   "outputs": [
    {
     "name": "stdout",
     "output_type": "stream",
     "text": [
      "     Product Type  Payment Type  City  Quantity Gross Income  Branch  Customer Type  Quantity\n",
      "450             0             0     1         6            5       1              1         6\n",
      "877             0             0     1         1            1       1              0         1\n",
      "743             4             2     0         2            1       0              0         2\n",
      "674             0             1     0        10            5       0              1        10\n",
      "937             5             0     0         5            5       0              1         5\n",
      "(130, 8)\n",
      "(733,)\n",
      "(130,)\n"
     ]
    }
   ],
   "source": [
    "print(X_train.head())\n",
    "print(X_test.shape)\n",
    "print(y_train.shape)\n",
    "print(y_test.shape)"
   ]
  },
  {
   "cell_type": "markdown",
   "id": "0b6fda66",
   "metadata": {},
   "source": [
    "<b>Model building using random forest in order to predict our target variable Rating<b/>"
   ]
  },
  {
   "cell_type": "code",
   "execution_count": 184,
   "id": "880a056e",
   "metadata": {},
   "outputs": [],
   "source": [
    "from sklearn.model_selection import RandomizedSearchCV\n",
    "rf = RandomForestClassifier()\n",
    "param_grid = {\n",
    "    'bootstrap': [True],\n",
    "    'max_depth': [3,5,7,10,12,15,20,25],\n",
    "    'max_features': [\"log2\",\"sqrt\",\"Auto\"],\n",
    "    'min_samples_leaf': [2,3, 4, 5, 7,10],\n",
    "    'min_samples_split': [3,5,8, 10, 12],\n",
    "    'n_estimators': [60,80,100,120,150,180,200],\n",
    "    'criterion':['gini','entropy']\n",
    "}\n",
    "\n",
    "clf_rf =RandomizedSearchCV(estimator = rf,param_distributions=param_grid, n_jobs=1, verbose=2, cv=10,random_state=42)\n"
   ]
  },
  {
   "cell_type": "code",
   "execution_count": 185,
   "id": "f4efcb7a",
   "metadata": {},
   "outputs": [
    {
     "data": {
      "text/html": [
       "<style>#sk-container-id-5 {color: black;background-color: white;}#sk-container-id-5 pre{padding: 0;}#sk-container-id-5 div.sk-toggleable {background-color: white;}#sk-container-id-5 label.sk-toggleable__label {cursor: pointer;display: block;width: 100%;margin-bottom: 0;padding: 0.3em;box-sizing: border-box;text-align: center;}#sk-container-id-5 label.sk-toggleable__label-arrow:before {content: \"▸\";float: left;margin-right: 0.25em;color: #696969;}#sk-container-id-5 label.sk-toggleable__label-arrow:hover:before {color: black;}#sk-container-id-5 div.sk-estimator:hover label.sk-toggleable__label-arrow:before {color: black;}#sk-container-id-5 div.sk-toggleable__content {max-height: 0;max-width: 0;overflow: hidden;text-align: left;background-color: #f0f8ff;}#sk-container-id-5 div.sk-toggleable__content pre {margin: 0.2em;color: black;border-radius: 0.25em;background-color: #f0f8ff;}#sk-container-id-5 input.sk-toggleable__control:checked~div.sk-toggleable__content {max-height: 200px;max-width: 100%;overflow: auto;}#sk-container-id-5 input.sk-toggleable__control:checked~label.sk-toggleable__label-arrow:before {content: \"▾\";}#sk-container-id-5 div.sk-estimator input.sk-toggleable__control:checked~label.sk-toggleable__label {background-color: #d4ebff;}#sk-container-id-5 div.sk-label input.sk-toggleable__control:checked~label.sk-toggleable__label {background-color: #d4ebff;}#sk-container-id-5 input.sk-hidden--visually {border: 0;clip: rect(1px 1px 1px 1px);clip: rect(1px, 1px, 1px, 1px);height: 1px;margin: -1px;overflow: hidden;padding: 0;position: absolute;width: 1px;}#sk-container-id-5 div.sk-estimator {font-family: monospace;background-color: #f0f8ff;border: 1px dotted black;border-radius: 0.25em;box-sizing: border-box;margin-bottom: 0.5em;}#sk-container-id-5 div.sk-estimator:hover {background-color: #d4ebff;}#sk-container-id-5 div.sk-parallel-item::after {content: \"\";width: 100%;border-bottom: 1px solid gray;flex-grow: 1;}#sk-container-id-5 div.sk-label:hover label.sk-toggleable__label {background-color: #d4ebff;}#sk-container-id-5 div.sk-serial::before {content: \"\";position: absolute;border-left: 1px solid gray;box-sizing: border-box;top: 0;bottom: 0;left: 50%;z-index: 0;}#sk-container-id-5 div.sk-serial {display: flex;flex-direction: column;align-items: center;background-color: white;padding-right: 0.2em;padding-left: 0.2em;position: relative;}#sk-container-id-5 div.sk-item {position: relative;z-index: 1;}#sk-container-id-5 div.sk-parallel {display: flex;align-items: stretch;justify-content: center;background-color: white;position: relative;}#sk-container-id-5 div.sk-item::before, #sk-container-id-5 div.sk-parallel-item::before {content: \"\";position: absolute;border-left: 1px solid gray;box-sizing: border-box;top: 0;bottom: 0;left: 50%;z-index: -1;}#sk-container-id-5 div.sk-parallel-item {display: flex;flex-direction: column;z-index: 1;position: relative;background-color: white;}#sk-container-id-5 div.sk-parallel-item:first-child::after {align-self: flex-end;width: 50%;}#sk-container-id-5 div.sk-parallel-item:last-child::after {align-self: flex-start;width: 50%;}#sk-container-id-5 div.sk-parallel-item:only-child::after {width: 0;}#sk-container-id-5 div.sk-dashed-wrapped {border: 1px dashed gray;margin: 0 0.4em 0.5em 0.4em;box-sizing: border-box;padding-bottom: 0.4em;background-color: white;}#sk-container-id-5 div.sk-label label {font-family: monospace;font-weight: bold;display: inline-block;line-height: 1.2em;}#sk-container-id-5 div.sk-label-container {text-align: center;}#sk-container-id-5 div.sk-container {/* jupyter's `normalize.less` sets `[hidden] { display: none; }` but bootstrap.min.css set `[hidden] { display: none !important; }` so we also need the `!important` here to be able to override the default hidden behavior on the sphinx rendered scikit-learn.org. See: https://github.com/scikit-learn/scikit-learn/issues/21755 */display: inline-block !important;position: relative;}#sk-container-id-5 div.sk-text-repr-fallback {display: none;}</style><div id=\"sk-container-id-5\" class=\"sk-top-container\"><div class=\"sk-text-repr-fallback\"><pre>RandomForestClassifier(criterion=&#x27;entropy&#x27;, max_depth=5, max_features=&#x27;log2&#x27;,\n",
       "                       min_samples_leaf=3, min_samples_split=4,\n",
       "                       n_estimators=80)</pre><b>In a Jupyter environment, please rerun this cell to show the HTML representation or trust the notebook. <br />On GitHub, the HTML representation is unable to render, please try loading this page with nbviewer.org.</b></div><div class=\"sk-container\" hidden><div class=\"sk-item\"><div class=\"sk-estimator sk-toggleable\"><input class=\"sk-toggleable__control sk-hidden--visually\" id=\"sk-estimator-id-7\" type=\"checkbox\" checked><label for=\"sk-estimator-id-7\" class=\"sk-toggleable__label sk-toggleable__label-arrow\">RandomForestClassifier</label><div class=\"sk-toggleable__content\"><pre>RandomForestClassifier(criterion=&#x27;entropy&#x27;, max_depth=5, max_features=&#x27;log2&#x27;,\n",
       "                       min_samples_leaf=3, min_samples_split=4,\n",
       "                       n_estimators=80)</pre></div></div></div></div></div>"
      ],
      "text/plain": [
       "RandomForestClassifier(criterion='entropy', max_depth=5, max_features='log2',\n",
       "                       min_samples_leaf=3, min_samples_split=4,\n",
       "                       n_estimators=80)"
      ]
     },
     "execution_count": 185,
     "metadata": {},
     "output_type": "execute_result"
    }
   ],
   "source": [
    "clf_rf=RandomForestClassifier(n_estimators= 80, min_samples_split= 4, min_samples_leaf= 3, max_features= 'log2', max_depth= 5, criterion='entropy')\n",
    "clf_rf.fit(X_train, y_train)"
   ]
  },
  {
   "cell_type": "code",
   "execution_count": 186,
   "id": "144cb3b6",
   "metadata": {},
   "outputs": [],
   "source": [
    "y_pred=clf_rf.predict(X_test)\n",
    "y_pred_Train=clf_rf.predict(X_train)"
   ]
  },
  {
   "cell_type": "markdown",
   "id": "74c06009",
   "metadata": {},
   "source": [
    "<b>Training and Testing accuracy in Random forest which is consecutively 67% and 70%<b/>"
   ]
  },
  {
   "cell_type": "code",
   "execution_count": 187,
   "id": "a4e8dde1",
   "metadata": {},
   "outputs": [
    {
     "name": "stdout",
     "output_type": "stream",
     "text": [
      "Training Accuracy::::       0.684856753069577\n",
      "Testing Accuracy::::       0.7\n"
     ]
    }
   ],
   "source": [
    "from sklearn.metrics import accuracy_score, confusion_matrix, classification_report\n",
    "print(\"Training Accuracy::::      \",accuracy_score(y_train,y_pred_Train))\n",
    "print(\"Testing Accuracy::::      \",accuracy_score(y_test,y_pred))\n"
   ]
  },
  {
   "cell_type": "markdown",
   "id": "5e6f7126",
   "metadata": {},
   "source": [
    "<b>Confusion matrix print<b/>"
   ]
  },
  {
   "cell_type": "code",
   "execution_count": 188,
   "id": "0105f162",
   "metadata": {},
   "outputs": [
    {
     "name": "stdout",
     "output_type": "stream",
     "text": [
      "[[  0   5   2]\n",
      " [  0 489   0]\n",
      " [  0 224  13]]\n",
      "[[ 0  2  0]\n",
      " [ 0 91  1]\n",
      " [ 0 36  0]]\n"
     ]
    }
   ],
   "source": [
    "print(confusion_matrix(y_train,y_pred_Train))\n",
    "print(confusion_matrix(y_test,y_pred))\n"
   ]
  },
  {
   "cell_type": "markdown",
   "id": "4f6c3bbe",
   "metadata": {},
   "source": [
    "<b>Classification report<b/>"
   ]
  },
  {
   "cell_type": "code",
   "execution_count": 189,
   "id": "06fe35d8",
   "metadata": {},
   "outputs": [
    {
     "name": "stdout",
     "output_type": "stream",
     "text": [
      "              precision    recall  f1-score   support\n",
      "\n",
      "           1       0.00      0.00      0.00         7\n",
      "           2       0.68      1.00      0.81       489\n",
      "           3       0.87      0.05      0.10       237\n",
      "\n",
      "    accuracy                           0.68       733\n",
      "   macro avg       0.52      0.35      0.30       733\n",
      "weighted avg       0.73      0.68      0.57       733\n",
      "\n",
      "              precision    recall  f1-score   support\n",
      "\n",
      "           1       0.00      0.00      0.00         2\n",
      "           2       0.71      0.99      0.82        92\n",
      "           3       0.00      0.00      0.00        36\n",
      "\n",
      "    accuracy                           0.70       130\n",
      "   macro avg       0.24      0.33      0.27       130\n",
      "weighted avg       0.50      0.70      0.58       130\n",
      "\n"
     ]
    }
   ],
   "source": [
    "print(classification_report(y_train,y_pred_Train))\n",
    "print(classification_report(y_test,y_pred))\n"
   ]
  },
  {
   "cell_type": "markdown",
   "id": "a939006a",
   "metadata": {},
   "source": [
    "<b>Predictive model using DEcision tree<b/>"
   ]
  },
  {
   "cell_type": "code",
   "execution_count": 190,
   "id": "d23e73b0",
   "metadata": {},
   "outputs": [],
   "source": [
    "from sklearn import tree"
   ]
  },
  {
   "cell_type": "code",
   "execution_count": 191,
   "id": "bfdd73df",
   "metadata": {},
   "outputs": [
    {
     "name": "stdout",
     "output_type": "stream",
     "text": [
      "Fitting 10 folds for each of 10 candidates, totalling 100 fits\n",
      "[CV] END criterion=entropy, max_depth=12, max_features=sqrt, min_samples_leaf=5, min_samples_split=5; total time=   0.0s\n",
      "[CV] END criterion=entropy, max_depth=12, max_features=sqrt, min_samples_leaf=5, min_samples_split=5; total time=   0.0s\n",
      "[CV] END criterion=entropy, max_depth=12, max_features=sqrt, min_samples_leaf=5, min_samples_split=5; total time=   0.0s\n",
      "[CV] END criterion=entropy, max_depth=12, max_features=sqrt, min_samples_leaf=5, min_samples_split=5; total time=   0.0s\n",
      "[CV] END criterion=entropy, max_depth=12, max_features=sqrt, min_samples_leaf=5, min_samples_split=5; total time=   0.0s\n",
      "[CV] END criterion=entropy, max_depth=12, max_features=sqrt, min_samples_leaf=5, min_samples_split=5; total time=   0.0s\n",
      "[CV] END criterion=entropy, max_depth=12, max_features=sqrt, min_samples_leaf=5, min_samples_split=5; total time=   0.0s\n",
      "[CV] END criterion=entropy, max_depth=12, max_features=sqrt, min_samples_leaf=5, min_samples_split=5; total time=   0.0s\n",
      "[CV] END criterion=entropy, max_depth=12, max_features=sqrt, min_samples_leaf=5, min_samples_split=5; total time=   0.0s\n",
      "[CV] END criterion=entropy, max_depth=12, max_features=sqrt, min_samples_leaf=5, min_samples_split=5; total time=   0.0s\n",
      "[CV] END criterion=entropy, max_depth=5, max_features=sqrt, min_samples_leaf=7, min_samples_split=3; total time=   0.0s\n",
      "[CV] END criterion=entropy, max_depth=5, max_features=sqrt, min_samples_leaf=7, min_samples_split=3; total time=   0.0s\n",
      "[CV] END criterion=entropy, max_depth=5, max_features=sqrt, min_samples_leaf=7, min_samples_split=3; total time=   0.0s\n",
      "[CV] END criterion=entropy, max_depth=5, max_features=sqrt, min_samples_leaf=7, min_samples_split=3; total time=   0.0s\n",
      "[CV] END criterion=entropy, max_depth=5, max_features=sqrt, min_samples_leaf=7, min_samples_split=3; total time=   0.0s\n",
      "[CV] END criterion=entropy, max_depth=5, max_features=sqrt, min_samples_leaf=7, min_samples_split=3; total time=   0.0s\n",
      "[CV] END criterion=entropy, max_depth=5, max_features=sqrt, min_samples_leaf=7, min_samples_split=3; total time=   0.0s\n",
      "[CV] END criterion=entropy, max_depth=5, max_features=sqrt, min_samples_leaf=7, min_samples_split=3; total time=   0.0s\n",
      "[CV] END criterion=entropy, max_depth=5, max_features=sqrt, min_samples_leaf=7, min_samples_split=3; total time=   0.0s\n",
      "[CV] END criterion=entropy, max_depth=5, max_features=sqrt, min_samples_leaf=7, min_samples_split=3; total time=   0.0s\n",
      "[CV] END criterion=entropy, max_depth=20, max_features=sqrt, min_samples_leaf=2, min_samples_split=12; total time=   0.0s\n",
      "[CV] END criterion=entropy, max_depth=20, max_features=sqrt, min_samples_leaf=2, min_samples_split=12; total time=   0.0s\n",
      "[CV] END criterion=entropy, max_depth=20, max_features=sqrt, min_samples_leaf=2, min_samples_split=12; total time=   0.0s\n",
      "[CV] END criterion=entropy, max_depth=20, max_features=sqrt, min_samples_leaf=2, min_samples_split=12; total time=   0.0s\n",
      "[CV] END criterion=entropy, max_depth=20, max_features=sqrt, min_samples_leaf=2, min_samples_split=12; total time=   0.0s\n",
      "[CV] END criterion=entropy, max_depth=20, max_features=sqrt, min_samples_leaf=2, min_samples_split=12; total time=   0.0s\n",
      "[CV] END criterion=entropy, max_depth=20, max_features=sqrt, min_samples_leaf=2, min_samples_split=12; total time=   0.0s\n",
      "[CV] END criterion=entropy, max_depth=20, max_features=sqrt, min_samples_leaf=2, min_samples_split=12; total time=   0.0s\n",
      "[CV] END criterion=entropy, max_depth=20, max_features=sqrt, min_samples_leaf=2, min_samples_split=12; total time=   0.0s\n",
      "[CV] END criterion=entropy, max_depth=20, max_features=sqrt, min_samples_leaf=2, min_samples_split=12; total time=   0.0s\n",
      "[CV] END criterion=entropy, max_depth=12, max_features=sqrt, min_samples_leaf=7, min_samples_split=3; total time=   0.0s\n",
      "[CV] END criterion=entropy, max_depth=12, max_features=sqrt, min_samples_leaf=7, min_samples_split=3; total time=   0.0s\n",
      "[CV] END criterion=entropy, max_depth=12, max_features=sqrt, min_samples_leaf=7, min_samples_split=3; total time=   0.0s\n",
      "[CV] END criterion=entropy, max_depth=12, max_features=sqrt, min_samples_leaf=7, min_samples_split=3; total time=   0.0s\n",
      "[CV] END criterion=entropy, max_depth=12, max_features=sqrt, min_samples_leaf=7, min_samples_split=3; total time=   0.0s\n",
      "[CV] END criterion=entropy, max_depth=12, max_features=sqrt, min_samples_leaf=7, min_samples_split=3; total time=   0.0s\n",
      "[CV] END criterion=entropy, max_depth=12, max_features=sqrt, min_samples_leaf=7, min_samples_split=3; total time=   0.0s\n",
      "[CV] END criterion=entropy, max_depth=12, max_features=sqrt, min_samples_leaf=7, min_samples_split=3; total time=   0.0s\n",
      "[CV] END criterion=entropy, max_depth=12, max_features=sqrt, min_samples_leaf=7, min_samples_split=3; total time=   0.0s\n",
      "[CV] END criterion=entropy, max_depth=12, max_features=sqrt, min_samples_leaf=7, min_samples_split=3; total time=   0.0s\n",
      "[CV] END criterion=entropy, max_depth=12, max_features=log2, min_samples_leaf=5, min_samples_split=3; total time=   0.0s\n",
      "[CV] END criterion=entropy, max_depth=12, max_features=log2, min_samples_leaf=5, min_samples_split=3; total time=   0.0s\n",
      "[CV] END criterion=entropy, max_depth=12, max_features=log2, min_samples_leaf=5, min_samples_split=3; total time=   0.0s\n",
      "[CV] END criterion=entropy, max_depth=12, max_features=log2, min_samples_leaf=5, min_samples_split=3; total time=   0.0s\n",
      "[CV] END criterion=entropy, max_depth=12, max_features=log2, min_samples_leaf=5, min_samples_split=3; total time=   0.0s\n",
      "[CV] END criterion=entropy, max_depth=12, max_features=log2, min_samples_leaf=5, min_samples_split=3; total time=   0.0s\n",
      "[CV] END criterion=entropy, max_depth=12, max_features=log2, min_samples_leaf=5, min_samples_split=3; total time=   0.0s\n",
      "[CV] END criterion=entropy, max_depth=12, max_features=log2, min_samples_leaf=5, min_samples_split=3; total time=   0.0s\n",
      "[CV] END criterion=entropy, max_depth=12, max_features=log2, min_samples_leaf=5, min_samples_split=3; total time=   0.0s\n",
      "[CV] END criterion=entropy, max_depth=12, max_features=log2, min_samples_leaf=5, min_samples_split=3; total time=   0.0s\n",
      "[CV] END criterion=entropy, max_depth=10, max_features=sqrt, min_samples_leaf=7, min_samples_split=12; total time=   0.0s\n",
      "[CV] END criterion=entropy, max_depth=10, max_features=sqrt, min_samples_leaf=7, min_samples_split=12; total time=   0.0s\n",
      "[CV] END criterion=entropy, max_depth=10, max_features=sqrt, min_samples_leaf=7, min_samples_split=12; total time=   0.0s\n",
      "[CV] END criterion=entropy, max_depth=10, max_features=sqrt, min_samples_leaf=7, min_samples_split=12; total time=   0.0s\n",
      "[CV] END criterion=entropy, max_depth=10, max_features=sqrt, min_samples_leaf=7, min_samples_split=12; total time=   0.0s\n",
      "[CV] END criterion=entropy, max_depth=10, max_features=sqrt, min_samples_leaf=7, min_samples_split=12; total time=   0.0s\n",
      "[CV] END criterion=entropy, max_depth=10, max_features=sqrt, min_samples_leaf=7, min_samples_split=12; total time=   0.0s\n",
      "[CV] END criterion=entropy, max_depth=10, max_features=sqrt, min_samples_leaf=7, min_samples_split=12; total time=   0.0s\n",
      "[CV] END criterion=entropy, max_depth=10, max_features=sqrt, min_samples_leaf=7, min_samples_split=12; total time=   0.0s\n",
      "[CV] END criterion=entropy, max_depth=10, max_features=sqrt, min_samples_leaf=7, min_samples_split=12; total time=   0.0s\n",
      "[CV] END criterion=gini, max_depth=5, max_features=sqrt, min_samples_leaf=2, min_samples_split=5; total time=   0.0s\n",
      "[CV] END criterion=gini, max_depth=5, max_features=sqrt, min_samples_leaf=2, min_samples_split=5; total time=   0.0s\n",
      "[CV] END criterion=gini, max_depth=5, max_features=sqrt, min_samples_leaf=2, min_samples_split=5; total time=   0.0s\n",
      "[CV] END criterion=gini, max_depth=5, max_features=sqrt, min_samples_leaf=2, min_samples_split=5; total time=   0.0s\n",
      "[CV] END criterion=gini, max_depth=5, max_features=sqrt, min_samples_leaf=2, min_samples_split=5; total time=   0.0s\n",
      "[CV] END criterion=gini, max_depth=5, max_features=sqrt, min_samples_leaf=2, min_samples_split=5; total time=   0.0s\n",
      "[CV] END criterion=gini, max_depth=5, max_features=sqrt, min_samples_leaf=2, min_samples_split=5; total time=   0.0s\n",
      "[CV] END criterion=gini, max_depth=5, max_features=sqrt, min_samples_leaf=2, min_samples_split=5; total time=   0.0s\n",
      "[CV] END criterion=gini, max_depth=5, max_features=sqrt, min_samples_leaf=2, min_samples_split=5; total time=   0.0s\n",
      "[CV] END criterion=gini, max_depth=5, max_features=sqrt, min_samples_leaf=2, min_samples_split=5; total time=   0.0s\n",
      "[CV] END criterion=gini, max_depth=15, max_features=log2, min_samples_leaf=5, min_samples_split=5; total time=   0.0s\n"
     ]
    },
    {
     "name": "stdout",
     "output_type": "stream",
     "text": [
      "[CV] END criterion=gini, max_depth=15, max_features=log2, min_samples_leaf=5, min_samples_split=5; total time=   0.0s\n",
      "[CV] END criterion=gini, max_depth=15, max_features=log2, min_samples_leaf=5, min_samples_split=5; total time=   0.0s\n",
      "[CV] END criterion=gini, max_depth=15, max_features=log2, min_samples_leaf=5, min_samples_split=5; total time=   0.0s\n",
      "[CV] END criterion=gini, max_depth=15, max_features=log2, min_samples_leaf=5, min_samples_split=5; total time=   0.0s\n",
      "[CV] END criterion=gini, max_depth=15, max_features=log2, min_samples_leaf=5, min_samples_split=5; total time=   0.0s\n",
      "[CV] END criterion=gini, max_depth=15, max_features=log2, min_samples_leaf=5, min_samples_split=5; total time=   0.0s\n",
      "[CV] END criterion=gini, max_depth=15, max_features=log2, min_samples_leaf=5, min_samples_split=5; total time=   0.0s\n",
      "[CV] END criterion=gini, max_depth=15, max_features=log2, min_samples_leaf=5, min_samples_split=5; total time=   0.0s\n",
      "[CV] END criterion=gini, max_depth=15, max_features=log2, min_samples_leaf=5, min_samples_split=5; total time=   0.0s\n",
      "[CV] END criterion=entropy, max_depth=15, max_features=Auto, min_samples_leaf=3, min_samples_split=10; total time=   0.0s\n",
      "[CV] END criterion=entropy, max_depth=15, max_features=Auto, min_samples_leaf=3, min_samples_split=10; total time=   0.0s\n",
      "[CV] END criterion=entropy, max_depth=15, max_features=Auto, min_samples_leaf=3, min_samples_split=10; total time=   0.0s\n",
      "[CV] END criterion=entropy, max_depth=15, max_features=Auto, min_samples_leaf=3, min_samples_split=10; total time=   0.0s\n",
      "[CV] END criterion=entropy, max_depth=15, max_features=Auto, min_samples_leaf=3, min_samples_split=10; total time=   0.0s\n",
      "[CV] END criterion=entropy, max_depth=15, max_features=Auto, min_samples_leaf=3, min_samples_split=10; total time=   0.0s\n",
      "[CV] END criterion=entropy, max_depth=15, max_features=Auto, min_samples_leaf=3, min_samples_split=10; total time=   0.0s\n",
      "[CV] END criterion=entropy, max_depth=15, max_features=Auto, min_samples_leaf=3, min_samples_split=10; total time=   0.0s\n",
      "[CV] END criterion=entropy, max_depth=15, max_features=Auto, min_samples_leaf=3, min_samples_split=10; total time=   0.0s\n",
      "[CV] END criterion=entropy, max_depth=15, max_features=Auto, min_samples_leaf=3, min_samples_split=10; total time=   0.0s\n",
      "[CV] END criterion=gini, max_depth=10, max_features=Auto, min_samples_leaf=2, min_samples_split=3; total time=   0.0s\n",
      "[CV] END criterion=gini, max_depth=10, max_features=Auto, min_samples_leaf=2, min_samples_split=3; total time=   0.0s\n",
      "[CV] END criterion=gini, max_depth=10, max_features=Auto, min_samples_leaf=2, min_samples_split=3; total time=   0.0s\n",
      "[CV] END criterion=gini, max_depth=10, max_features=Auto, min_samples_leaf=2, min_samples_split=3; total time=   0.0s\n",
      "[CV] END criterion=gini, max_depth=10, max_features=Auto, min_samples_leaf=2, min_samples_split=3; total time=   0.0s\n",
      "[CV] END criterion=gini, max_depth=10, max_features=Auto, min_samples_leaf=2, min_samples_split=3; total time=   0.0s\n",
      "[CV] END criterion=gini, max_depth=10, max_features=Auto, min_samples_leaf=2, min_samples_split=3; total time=   0.0s\n",
      "[CV] END criterion=gini, max_depth=10, max_features=Auto, min_samples_leaf=2, min_samples_split=3; total time=   0.0s\n",
      "[CV] END criterion=gini, max_depth=10, max_features=Auto, min_samples_leaf=2, min_samples_split=3; total time=   0.0s\n",
      "[CV] END criterion=gini, max_depth=10, max_features=Auto, min_samples_leaf=2, min_samples_split=3; total time=   0.0s\n"
     ]
    },
    {
     "data": {
      "text/html": [
       "<style>#sk-container-id-6 {color: black;background-color: white;}#sk-container-id-6 pre{padding: 0;}#sk-container-id-6 div.sk-toggleable {background-color: white;}#sk-container-id-6 label.sk-toggleable__label {cursor: pointer;display: block;width: 100%;margin-bottom: 0;padding: 0.3em;box-sizing: border-box;text-align: center;}#sk-container-id-6 label.sk-toggleable__label-arrow:before {content: \"▸\";float: left;margin-right: 0.25em;color: #696969;}#sk-container-id-6 label.sk-toggleable__label-arrow:hover:before {color: black;}#sk-container-id-6 div.sk-estimator:hover label.sk-toggleable__label-arrow:before {color: black;}#sk-container-id-6 div.sk-toggleable__content {max-height: 0;max-width: 0;overflow: hidden;text-align: left;background-color: #f0f8ff;}#sk-container-id-6 div.sk-toggleable__content pre {margin: 0.2em;color: black;border-radius: 0.25em;background-color: #f0f8ff;}#sk-container-id-6 input.sk-toggleable__control:checked~div.sk-toggleable__content {max-height: 200px;max-width: 100%;overflow: auto;}#sk-container-id-6 input.sk-toggleable__control:checked~label.sk-toggleable__label-arrow:before {content: \"▾\";}#sk-container-id-6 div.sk-estimator input.sk-toggleable__control:checked~label.sk-toggleable__label {background-color: #d4ebff;}#sk-container-id-6 div.sk-label input.sk-toggleable__control:checked~label.sk-toggleable__label {background-color: #d4ebff;}#sk-container-id-6 input.sk-hidden--visually {border: 0;clip: rect(1px 1px 1px 1px);clip: rect(1px, 1px, 1px, 1px);height: 1px;margin: -1px;overflow: hidden;padding: 0;position: absolute;width: 1px;}#sk-container-id-6 div.sk-estimator {font-family: monospace;background-color: #f0f8ff;border: 1px dotted black;border-radius: 0.25em;box-sizing: border-box;margin-bottom: 0.5em;}#sk-container-id-6 div.sk-estimator:hover {background-color: #d4ebff;}#sk-container-id-6 div.sk-parallel-item::after {content: \"\";width: 100%;border-bottom: 1px solid gray;flex-grow: 1;}#sk-container-id-6 div.sk-label:hover label.sk-toggleable__label {background-color: #d4ebff;}#sk-container-id-6 div.sk-serial::before {content: \"\";position: absolute;border-left: 1px solid gray;box-sizing: border-box;top: 0;bottom: 0;left: 50%;z-index: 0;}#sk-container-id-6 div.sk-serial {display: flex;flex-direction: column;align-items: center;background-color: white;padding-right: 0.2em;padding-left: 0.2em;position: relative;}#sk-container-id-6 div.sk-item {position: relative;z-index: 1;}#sk-container-id-6 div.sk-parallel {display: flex;align-items: stretch;justify-content: center;background-color: white;position: relative;}#sk-container-id-6 div.sk-item::before, #sk-container-id-6 div.sk-parallel-item::before {content: \"\";position: absolute;border-left: 1px solid gray;box-sizing: border-box;top: 0;bottom: 0;left: 50%;z-index: -1;}#sk-container-id-6 div.sk-parallel-item {display: flex;flex-direction: column;z-index: 1;position: relative;background-color: white;}#sk-container-id-6 div.sk-parallel-item:first-child::after {align-self: flex-end;width: 50%;}#sk-container-id-6 div.sk-parallel-item:last-child::after {align-self: flex-start;width: 50%;}#sk-container-id-6 div.sk-parallel-item:only-child::after {width: 0;}#sk-container-id-6 div.sk-dashed-wrapped {border: 1px dashed gray;margin: 0 0.4em 0.5em 0.4em;box-sizing: border-box;padding-bottom: 0.4em;background-color: white;}#sk-container-id-6 div.sk-label label {font-family: monospace;font-weight: bold;display: inline-block;line-height: 1.2em;}#sk-container-id-6 div.sk-label-container {text-align: center;}#sk-container-id-6 div.sk-container {/* jupyter's `normalize.less` sets `[hidden] { display: none; }` but bootstrap.min.css set `[hidden] { display: none !important; }` so we also need the `!important` here to be able to override the default hidden behavior on the sphinx rendered scikit-learn.org. See: https://github.com/scikit-learn/scikit-learn/issues/21755 */display: inline-block !important;position: relative;}#sk-container-id-6 div.sk-text-repr-fallback {display: none;}</style><div id=\"sk-container-id-6\" class=\"sk-top-container\"><div class=\"sk-text-repr-fallback\"><pre>RandomizedSearchCV(cv=10, estimator=DecisionTreeClassifier(), n_jobs=1,\n",
       "                   param_distributions={&#x27;criterion&#x27;: [&#x27;gini&#x27;, &#x27;entropy&#x27;],\n",
       "                                        &#x27;max_depth&#x27;: [3, 5, 7, 10, 12, 15, 20,\n",
       "                                                      25],\n",
       "                                        &#x27;max_features&#x27;: [&#x27;log2&#x27;, &#x27;sqrt&#x27;,\n",
       "                                                         &#x27;Auto&#x27;],\n",
       "                                        &#x27;min_samples_leaf&#x27;: [2, 3, 4, 5, 7, 10],\n",
       "                                        &#x27;min_samples_split&#x27;: [3, 5, 8, 10, 12]},\n",
       "                   random_state=42, verbose=2)</pre><b>In a Jupyter environment, please rerun this cell to show the HTML representation or trust the notebook. <br />On GitHub, the HTML representation is unable to render, please try loading this page with nbviewer.org.</b></div><div class=\"sk-container\" hidden><div class=\"sk-item sk-dashed-wrapped\"><div class=\"sk-label-container\"><div class=\"sk-label sk-toggleable\"><input class=\"sk-toggleable__control sk-hidden--visually\" id=\"sk-estimator-id-8\" type=\"checkbox\" ><label for=\"sk-estimator-id-8\" class=\"sk-toggleable__label sk-toggleable__label-arrow\">RandomizedSearchCV</label><div class=\"sk-toggleable__content\"><pre>RandomizedSearchCV(cv=10, estimator=DecisionTreeClassifier(), n_jobs=1,\n",
       "                   param_distributions={&#x27;criterion&#x27;: [&#x27;gini&#x27;, &#x27;entropy&#x27;],\n",
       "                                        &#x27;max_depth&#x27;: [3, 5, 7, 10, 12, 15, 20,\n",
       "                                                      25],\n",
       "                                        &#x27;max_features&#x27;: [&#x27;log2&#x27;, &#x27;sqrt&#x27;,\n",
       "                                                         &#x27;Auto&#x27;],\n",
       "                                        &#x27;min_samples_leaf&#x27;: [2, 3, 4, 5, 7, 10],\n",
       "                                        &#x27;min_samples_split&#x27;: [3, 5, 8, 10, 12]},\n",
       "                   random_state=42, verbose=2)</pre></div></div></div><div class=\"sk-parallel\"><div class=\"sk-parallel-item\"><div class=\"sk-item\"><div class=\"sk-label-container\"><div class=\"sk-label sk-toggleable\"><input class=\"sk-toggleable__control sk-hidden--visually\" id=\"sk-estimator-id-9\" type=\"checkbox\" ><label for=\"sk-estimator-id-9\" class=\"sk-toggleable__label sk-toggleable__label-arrow\">estimator: DecisionTreeClassifier</label><div class=\"sk-toggleable__content\"><pre>DecisionTreeClassifier()</pre></div></div></div><div class=\"sk-serial\"><div class=\"sk-item\"><div class=\"sk-estimator sk-toggleable\"><input class=\"sk-toggleable__control sk-hidden--visually\" id=\"sk-estimator-id-10\" type=\"checkbox\" ><label for=\"sk-estimator-id-10\" class=\"sk-toggleable__label sk-toggleable__label-arrow\">DecisionTreeClassifier</label><div class=\"sk-toggleable__content\"><pre>DecisionTreeClassifier()</pre></div></div></div></div></div></div></div></div></div></div>"
      ],
      "text/plain": [
       "RandomizedSearchCV(cv=10, estimator=DecisionTreeClassifier(), n_jobs=1,\n",
       "                   param_distributions={'criterion': ['gini', 'entropy'],\n",
       "                                        'max_depth': [3, 5, 7, 10, 12, 15, 20,\n",
       "                                                      25],\n",
       "                                        'max_features': ['log2', 'sqrt',\n",
       "                                                         'Auto'],\n",
       "                                        'min_samples_leaf': [2, 3, 4, 5, 7, 10],\n",
       "                                        'min_samples_split': [3, 5, 8, 10, 12]},\n",
       "                   random_state=42, verbose=2)"
      ]
     },
     "execution_count": 191,
     "metadata": {},
     "output_type": "execute_result"
    }
   ],
   "source": [
    "rf = tree.DecisionTreeClassifier()\n",
    "param_grid = {\n",
    "    'max_depth': [3,5,7,10,12,15,20,25],\n",
    "    'max_features': [\"log2\",\"sqrt\",\"Auto\"],\n",
    "    'min_samples_leaf': [2,3, 4, 5, 7,10],\n",
    "    'min_samples_split': [3,5,8, 10, 12],\n",
    "    'criterion':['gini','entropy']\n",
    "}\n",
    "\n",
    "clf_rf =RandomizedSearchCV(estimator = rf,param_distributions=param_grid, n_jobs=1, verbose=2, cv=10,random_state=42)\n",
    "clf_rf.fit(X_train, y_train)"
   ]
  },
  {
   "cell_type": "code",
   "execution_count": 192,
   "id": "11225f89",
   "metadata": {},
   "outputs": [
    {
     "name": "stdout",
     "output_type": "stream",
     "text": [
      "0.6494076268048871\n",
      "{'min_samples_split': 5, 'min_samples_leaf': 2, 'max_features': 'sqrt', 'max_depth': 5, 'criterion': 'gini'}\n"
     ]
    }
   ],
   "source": [
    "print(clf_rf.best_score_)\n",
    "print(clf_rf.best_params_)"
   ]
  },
  {
   "cell_type": "code",
   "execution_count": 193,
   "id": "8b87f073",
   "metadata": {},
   "outputs": [
    {
     "data": {
      "text/html": [
       "<style>#sk-container-id-7 {color: black;background-color: white;}#sk-container-id-7 pre{padding: 0;}#sk-container-id-7 div.sk-toggleable {background-color: white;}#sk-container-id-7 label.sk-toggleable__label {cursor: pointer;display: block;width: 100%;margin-bottom: 0;padding: 0.3em;box-sizing: border-box;text-align: center;}#sk-container-id-7 label.sk-toggleable__label-arrow:before {content: \"▸\";float: left;margin-right: 0.25em;color: #696969;}#sk-container-id-7 label.sk-toggleable__label-arrow:hover:before {color: black;}#sk-container-id-7 div.sk-estimator:hover label.sk-toggleable__label-arrow:before {color: black;}#sk-container-id-7 div.sk-toggleable__content {max-height: 0;max-width: 0;overflow: hidden;text-align: left;background-color: #f0f8ff;}#sk-container-id-7 div.sk-toggleable__content pre {margin: 0.2em;color: black;border-radius: 0.25em;background-color: #f0f8ff;}#sk-container-id-7 input.sk-toggleable__control:checked~div.sk-toggleable__content {max-height: 200px;max-width: 100%;overflow: auto;}#sk-container-id-7 input.sk-toggleable__control:checked~label.sk-toggleable__label-arrow:before {content: \"▾\";}#sk-container-id-7 div.sk-estimator input.sk-toggleable__control:checked~label.sk-toggleable__label {background-color: #d4ebff;}#sk-container-id-7 div.sk-label input.sk-toggleable__control:checked~label.sk-toggleable__label {background-color: #d4ebff;}#sk-container-id-7 input.sk-hidden--visually {border: 0;clip: rect(1px 1px 1px 1px);clip: rect(1px, 1px, 1px, 1px);height: 1px;margin: -1px;overflow: hidden;padding: 0;position: absolute;width: 1px;}#sk-container-id-7 div.sk-estimator {font-family: monospace;background-color: #f0f8ff;border: 1px dotted black;border-radius: 0.25em;box-sizing: border-box;margin-bottom: 0.5em;}#sk-container-id-7 div.sk-estimator:hover {background-color: #d4ebff;}#sk-container-id-7 div.sk-parallel-item::after {content: \"\";width: 100%;border-bottom: 1px solid gray;flex-grow: 1;}#sk-container-id-7 div.sk-label:hover label.sk-toggleable__label {background-color: #d4ebff;}#sk-container-id-7 div.sk-serial::before {content: \"\";position: absolute;border-left: 1px solid gray;box-sizing: border-box;top: 0;bottom: 0;left: 50%;z-index: 0;}#sk-container-id-7 div.sk-serial {display: flex;flex-direction: column;align-items: center;background-color: white;padding-right: 0.2em;padding-left: 0.2em;position: relative;}#sk-container-id-7 div.sk-item {position: relative;z-index: 1;}#sk-container-id-7 div.sk-parallel {display: flex;align-items: stretch;justify-content: center;background-color: white;position: relative;}#sk-container-id-7 div.sk-item::before, #sk-container-id-7 div.sk-parallel-item::before {content: \"\";position: absolute;border-left: 1px solid gray;box-sizing: border-box;top: 0;bottom: 0;left: 50%;z-index: -1;}#sk-container-id-7 div.sk-parallel-item {display: flex;flex-direction: column;z-index: 1;position: relative;background-color: white;}#sk-container-id-7 div.sk-parallel-item:first-child::after {align-self: flex-end;width: 50%;}#sk-container-id-7 div.sk-parallel-item:last-child::after {align-self: flex-start;width: 50%;}#sk-container-id-7 div.sk-parallel-item:only-child::after {width: 0;}#sk-container-id-7 div.sk-dashed-wrapped {border: 1px dashed gray;margin: 0 0.4em 0.5em 0.4em;box-sizing: border-box;padding-bottom: 0.4em;background-color: white;}#sk-container-id-7 div.sk-label label {font-family: monospace;font-weight: bold;display: inline-block;line-height: 1.2em;}#sk-container-id-7 div.sk-label-container {text-align: center;}#sk-container-id-7 div.sk-container {/* jupyter's `normalize.less` sets `[hidden] { display: none; }` but bootstrap.min.css set `[hidden] { display: none !important; }` so we also need the `!important` here to be able to override the default hidden behavior on the sphinx rendered scikit-learn.org. See: https://github.com/scikit-learn/scikit-learn/issues/21755 */display: inline-block !important;position: relative;}#sk-container-id-7 div.sk-text-repr-fallback {display: none;}</style><div id=\"sk-container-id-7\" class=\"sk-top-container\"><div class=\"sk-text-repr-fallback\"><pre>DecisionTreeClassifier(criterion=&#x27;entropy&#x27;, max_depth=6, max_features=&#x27;log2&#x27;,\n",
       "                       min_samples_leaf=5, min_samples_split=3)</pre><b>In a Jupyter environment, please rerun this cell to show the HTML representation or trust the notebook. <br />On GitHub, the HTML representation is unable to render, please try loading this page with nbviewer.org.</b></div><div class=\"sk-container\" hidden><div class=\"sk-item\"><div class=\"sk-estimator sk-toggleable\"><input class=\"sk-toggleable__control sk-hidden--visually\" id=\"sk-estimator-id-11\" type=\"checkbox\" checked><label for=\"sk-estimator-id-11\" class=\"sk-toggleable__label sk-toggleable__label-arrow\">DecisionTreeClassifier</label><div class=\"sk-toggleable__content\"><pre>DecisionTreeClassifier(criterion=&#x27;entropy&#x27;, max_depth=6, max_features=&#x27;log2&#x27;,\n",
       "                       min_samples_leaf=5, min_samples_split=3)</pre></div></div></div></div></div>"
      ],
      "text/plain": [
       "DecisionTreeClassifier(criterion='entropy', max_depth=6, max_features='log2',\n",
       "                       min_samples_leaf=5, min_samples_split=3)"
      ]
     },
     "execution_count": 193,
     "metadata": {},
     "output_type": "execute_result"
    }
   ],
   "source": [
    "clf_rf=tree.DecisionTreeClassifier(min_samples_split= 3, min_samples_leaf= 5, max_features= 'log2', max_depth= 6, criterion='entropy')\n",
    "clf_rf.fit(X_train, y_train)"
   ]
  },
  {
   "cell_type": "code",
   "execution_count": 197,
   "id": "7e8dcdc5",
   "metadata": {},
   "outputs": [],
   "source": [
    "y_pred=clf_rf.predict(X_test)\n",
    "y_pred_Train=clf_rf.predict(X_train)"
   ]
  },
  {
   "cell_type": "code",
   "execution_count": 198,
   "id": "31becdbf",
   "metadata": {},
   "outputs": [
    {
     "name": "stdout",
     "output_type": "stream",
     "text": [
      "              precision    recall  f1-score   support\n",
      "\n",
      "           1       0.00      0.00      0.00         2\n",
      "           2       0.70      0.88      0.78        92\n",
      "           3       0.27      0.11      0.16        36\n",
      "\n",
      "    accuracy                           0.65       130\n",
      "   macro avg       0.32      0.33      0.31       130\n",
      "weighted avg       0.57      0.65      0.60       130\n",
      "\n"
     ]
    }
   ],
   "source": [
    "print(classification_report(y_test, y_pred))"
   ]
  },
  {
   "cell_type": "markdown",
   "id": "ad97192a",
   "metadata": {},
   "source": [
    "<b>Training accuracy is 69% and Testing accuracy is 66% using decision tree<b/>"
   ]
  },
  {
   "cell_type": "code",
   "execution_count": 199,
   "id": "df6e3964",
   "metadata": {},
   "outputs": [
    {
     "name": "stdout",
     "output_type": "stream",
     "text": [
      "Training Accuracy::::       0.6930422919508867\n",
      "Testing Accuracy::::       0.6538461538461539\n"
     ]
    }
   ],
   "source": [
    "print(\"Training Accuracy::::      \",accuracy_score(y_train,y_pred_Train))\n",
    "print(\"Testing Accuracy::::      \",accuracy_score(y_test,y_pred))"
   ]
  },
  {
   "cell_type": "markdown",
   "id": "c3fa4999",
   "metadata": {},
   "source": [
    "# Logistic Regression"
   ]
  },
  {
   "cell_type": "code",
   "execution_count": 200,
   "id": "9f04c4df",
   "metadata": {},
   "outputs": [],
   "source": [
    "from sklearn.model_selection import train_test_split\n",
    "from sklearn.linear_model import LogisticRegression\n",
    "from sklearn import preprocessing\n",
    "from sklearn.metrics import accuracy_score, classification_report, confusion_matrix\n"
   ]
  },
  {
   "cell_type": "code",
   "execution_count": 201,
   "id": "32e4f831",
   "metadata": {},
   "outputs": [
    {
     "data": {
      "image/png": "[encoded data removed]",
      "text/plain": [
       "<Figure size 720x576 with 2 Axes>"
      ]
     },
     "metadata": {
      "needs_background": "light"
     },
     "output_type": "display_data"
    }
   ],
   "source": [
    "plt.figure(figsize=(10,8))\n",
    "\n",
    "sns.heatmap(data_df.corr(),annot=True,cmap=plt.cm.Reds);"
   ]
  },
  {
   "cell_type": "code",
   "execution_count": 202,
   "id": "c9bc8bb6",
   "metadata": {},
   "outputs": [],
   "source": [
    "# Make new variable \n",
    "x = data_df[['Branch', 'City', 'Customer Type', 'Gender', 'Product Type', 'Quantity',\n",
    "       'Time', 'Payment Type', 'Gross Income']]\n",
    "y = data_df[['Rating_Cat']]"
   ]
  },
  {
   "cell_type": "code",
   "execution_count": 203,
   "id": "2aee272c",
   "metadata": {},
   "outputs": [
    {
     "name": "stdout",
     "output_type": "stream",
     "text": [
      "(863, 11)\n",
      "(863, 9)\n",
      "(863, 1)\n"
     ]
    }
   ],
   "source": [
    "print(data_df.shape)\n",
    "print(x.shape)\n",
    "print(y.shape)"
   ]
  },
  {
   "cell_type": "code",
   "execution_count": 204,
   "id": "528c37a7",
   "metadata": {},
   "outputs": [],
   "source": [
    "X_train, X_test, y_train, y_test = train_test_split(x, y, test_size=0.20, random_state=5, stratify=y)"
   ]
  },
  {
   "cell_type": "code",
   "execution_count": 205,
   "id": "9c0dc7c0",
   "metadata": {},
   "outputs": [],
   "source": [
    "scaler = preprocessing.StandardScaler().fit(X_train)\n",
    "X_train_scaled = scaler.transform(X_train)"
   ]
  },
  {
   "cell_type": "code",
   "execution_count": 206,
   "id": "40ebe58e",
   "metadata": {},
   "outputs": [
    {
     "name": "stdout",
     "output_type": "stream",
     "text": [
      "(863, 9) (863, 1)\n",
      "(690, 9) (690, 1)\n",
      "(173, 9) (173, 1)\n"
     ]
    }
   ],
   "source": [
    "print(x.shape, y.shape)\n",
    "print(X_train_scaled.shape, y_train.shape)\n",
    "print(X_test.shape, y_test.shape)"
   ]
  },
  {
   "cell_type": "code",
   "execution_count": 207,
   "id": "c787406a",
   "metadata": {},
   "outputs": [],
   "source": [
    "model = LogisticRegression()"
   ]
  },
  {
   "cell_type": "code",
   "execution_count": 208,
   "id": "a2d3ba0e",
   "metadata": {},
   "outputs": [
    {
     "data": {
      "text/html": [
       "<style>#sk-container-id-8 {color: black;background-color: white;}#sk-container-id-8 pre{padding: 0;}#sk-container-id-8 div.sk-toggleable {background-color: white;}#sk-container-id-8 label.sk-toggleable__label {cursor: pointer;display: block;width: 100%;margin-bottom: 0;padding: 0.3em;box-sizing: border-box;text-align: center;}#sk-container-id-8 label.sk-toggleable__label-arrow:before {content: \"▸\";float: left;margin-right: 0.25em;color: #696969;}#sk-container-id-8 label.sk-toggleable__label-arrow:hover:before {color: black;}#sk-container-id-8 div.sk-estimator:hover label.sk-toggleable__label-arrow:before {color: black;}#sk-container-id-8 div.sk-toggleable__content {max-height: 0;max-width: 0;overflow: hidden;text-align: left;background-color: #f0f8ff;}#sk-container-id-8 div.sk-toggleable__content pre {margin: 0.2em;color: black;border-radius: 0.25em;background-color: #f0f8ff;}#sk-container-id-8 input.sk-toggleable__control:checked~div.sk-toggleable__content {max-height: 200px;max-width: 100%;overflow: auto;}#sk-container-id-8 input.sk-toggleable__control:checked~label.sk-toggleable__label-arrow:before {content: \"▾\";}#sk-container-id-8 div.sk-estimator input.sk-toggleable__control:checked~label.sk-toggleable__label {background-color: #d4ebff;}#sk-container-id-8 div.sk-label input.sk-toggleable__control:checked~label.sk-toggleable__label {background-color: #d4ebff;}#sk-container-id-8 input.sk-hidden--visually {border: 0;clip: rect(1px 1px 1px 1px);clip: rect(1px, 1px, 1px, 1px);height: 1px;margin: -1px;overflow: hidden;padding: 0;position: absolute;width: 1px;}#sk-container-id-8 div.sk-estimator {font-family: monospace;background-color: #f0f8ff;border: 1px dotted black;border-radius: 0.25em;box-sizing: border-box;margin-bottom: 0.5em;}#sk-container-id-8 div.sk-estimator:hover {background-color: #d4ebff;}#sk-container-id-8 div.sk-parallel-item::after {content: \"\";width: 100%;border-bottom: 1px solid gray;flex-grow: 1;}#sk-container-id-8 div.sk-label:hover label.sk-toggleable__label {background-color: #d4ebff;}#sk-container-id-8 div.sk-serial::before {content: \"\";position: absolute;border-left: 1px solid gray;box-sizing: border-box;top: 0;bottom: 0;left: 50%;z-index: 0;}#sk-container-id-8 div.sk-serial {display: flex;flex-direction: column;align-items: center;background-color: white;padding-right: 0.2em;padding-left: 0.2em;position: relative;}#sk-container-id-8 div.sk-item {position: relative;z-index: 1;}#sk-container-id-8 div.sk-parallel {display: flex;align-items: stretch;justify-content: center;background-color: white;position: relative;}#sk-container-id-8 div.sk-item::before, #sk-container-id-8 div.sk-parallel-item::before {content: \"\";position: absolute;border-left: 1px solid gray;box-sizing: border-box;top: 0;bottom: 0;left: 50%;z-index: -1;}#sk-container-id-8 div.sk-parallel-item {display: flex;flex-direction: column;z-index: 1;position: relative;background-color: white;}#sk-container-id-8 div.sk-parallel-item:first-child::after {align-self: flex-end;width: 50%;}#sk-container-id-8 div.sk-parallel-item:last-child::after {align-self: flex-start;width: 50%;}#sk-container-id-8 div.sk-parallel-item:only-child::after {width: 0;}#sk-container-id-8 div.sk-dashed-wrapped {border: 1px dashed gray;margin: 0 0.4em 0.5em 0.4em;box-sizing: border-box;padding-bottom: 0.4em;background-color: white;}#sk-container-id-8 div.sk-label label {font-family: monospace;font-weight: bold;display: inline-block;line-height: 1.2em;}#sk-container-id-8 div.sk-label-container {text-align: center;}#sk-container-id-8 div.sk-container {/* jupyter's `normalize.less` sets `[hidden] { display: none; }` but bootstrap.min.css set `[hidden] { display: none !important; }` so we also need the `!important` here to be able to override the default hidden behavior on the sphinx rendered scikit-learn.org. See: https://github.com/scikit-learn/scikit-learn/issues/21755 */display: inline-block !important;position: relative;}#sk-container-id-8 div.sk-text-repr-fallback {display: none;}</style><div id=\"sk-container-id-8\" class=\"sk-top-container\"><div class=\"sk-text-repr-fallback\"><pre>LogisticRegression()</pre><b>In a Jupyter environment, please rerun this cell to show the HTML representation or trust the notebook. <br />On GitHub, the HTML representation is unable to render, please try loading this page with nbviewer.org.</b></div><div class=\"sk-container\" hidden><div class=\"sk-item\"><div class=\"sk-estimator sk-toggleable\"><input class=\"sk-toggleable__control sk-hidden--visually\" id=\"sk-estimator-id-12\" type=\"checkbox\" checked><label for=\"sk-estimator-id-12\" class=\"sk-toggleable__label sk-toggleable__label-arrow\">LogisticRegression</label><div class=\"sk-toggleable__content\"><pre>LogisticRegression()</pre></div></div></div></div></div>"
      ],
      "text/plain": [
       "LogisticRegression()"
      ]
     },
     "execution_count": 208,
     "metadata": {},
     "output_type": "execute_result"
    }
   ],
   "source": [
    "model.fit(X_train_scaled, y_train)"
   ]
  },
  {
   "cell_type": "markdown",
   "id": "d483bbd8",
   "metadata": {},
   "source": [
    "<b>Training accuracy is 67.4% and Testing accuracy is 67% using Logistic regression<b/>"
   ]
  },
  {
   "cell_type": "code",
   "execution_count": 209,
   "id": "1109d411",
   "metadata": {},
   "outputs": [
    {
     "name": "stdout",
     "output_type": "stream",
     "text": [
      "The Accuracy for Training Set is 67.3913043478261\n"
     ]
    }
   ],
   "source": [
    "train_acc = model.score(X_train_scaled, y_train)\n",
    "print(\"The Accuracy for Training Set is {}\".format(train_acc*100))"
   ]
  },
  {
   "cell_type": "code",
   "execution_count": 210,
   "id": "9ebae48b",
   "metadata": {},
   "outputs": [],
   "source": [
    "y_pred = model.predict(X_test)"
   ]
  },
  {
   "cell_type": "code",
   "execution_count": 211,
   "id": "187eac26",
   "metadata": {},
   "outputs": [
    {
     "name": "stdout",
     "output_type": "stream",
     "text": [
      "The Accuracy for Test Set is 67.05202312138728\n"
     ]
    }
   ],
   "source": [
    "test_acc = accuracy_score(y_test, y_pred)\n",
    "print(\"The Accuracy for Test Set is {}\".format(test_acc*100))"
   ]
  },
  {
   "cell_type": "markdown",
   "id": "99f75a99",
   "metadata": {},
   "source": [
    "<b>Classification Report<b/>"
   ]
  },
  {
   "cell_type": "code",
   "execution_count": 212,
   "id": "36afc81c",
   "metadata": {},
   "outputs": [
    {
     "name": "stdout",
     "output_type": "stream",
     "text": [
      "              precision    recall  f1-score   support\n",
      "\n",
      "           1       0.00      0.00      0.00         2\n",
      "           2       0.67      1.00      0.80       116\n",
      "           3       0.00      0.00      0.00        55\n",
      "\n",
      "    accuracy                           0.67       173\n",
      "   macro avg       0.22      0.33      0.27       173\n",
      "weighted avg       0.45      0.67      0.54       173\n",
      "\n"
     ]
    }
   ],
   "source": [
    "print(classification_report(y_test, y_pred))"
   ]
  },
  {
   "cell_type": "markdown",
   "id": "40d4686e",
   "metadata": {},
   "source": [
    "<b>Confusion Matrix print<b/>"
   ]
  },
  {
   "cell_type": "code",
   "execution_count": 213,
   "id": "f4ef61c1",
   "metadata": {},
   "outputs": [
    {
     "data": {
      "image/png": "[encoded data removed]",
      "text/plain": [
       "<Figure size 864x432 with 2 Axes>"
      ]
     },
     "metadata": {
      "needs_background": "light"
     },
     "output_type": "display_data"
    }
   ],
   "source": [
    "cm=confusion_matrix(y_test,y_pred)\n",
    "plt.figure(figsize=(12,6))\n",
    "plt.title(\"Confusion Matrix\")\n",
    "sns.heatmap(cm, annot=True,fmt='d', cmap='Blues')\n",
    "plt.ylabel(\"Actual Values\")\n",
    "plt.xlabel(\"Predicted Values\")\n",
    "plt.savefig('confusion_matrix.png')"
   ]
  },
  {
   "cell_type": "code",
   "execution_count": 214,
   "id": "f86d42c4",
   "metadata": {},
   "outputs": [
    {
     "name": "stdout",
     "output_type": "stream",
     "text": [
      "     Branch  City  Customer Type  Gender  Product Type  Quantity  Time  Payment Type Gross Income\n",
      "957       1     1              1       1             0         6     3             0            3\n",
      "208       1     1              1       0             1         3     3             2            1\n",
      "51        0     0              0       0             2         5     3             0            3\n",
      "626       0     0              1       1             5         2     2             2            2\n",
      "688       2     2              0       1             5         2     2             0            2\n",
      "..      ...   ...            ...     ...           ...       ...   ...           ...          ...\n",
      "588       2     2              1       1             1        10     2             0            6\n",
      "979       1     1              1       0             2         1     4             1            1\n",
      "490       1     1              1       0             1         2     4             2            1\n",
      "802       2     2              0       1             1         7     3             2            5\n",
      "181       2     2              0       1             2         8     2             0            4\n",
      "\n",
      "[690 rows x 9 columns]\n",
      "    Rating_Cat\n",
      "957          2\n",
      "208          2\n",
      "51           3\n",
      "626          3\n",
      "688          2\n",
      "..         ...\n",
      "588          2\n",
      "979          2\n",
      "490          3\n",
      "802          2\n",
      "181          2\n",
      "\n",
      "[690 rows x 1 columns]\n",
      "     Branch  City  Customer Type  Gender  Product Type  Quantity  Time  Payment Type Gross Income\n",
      "161       0     0              1       1             5         1     3             0            1\n",
      "22        1     1              1       1             4         2     2             1            1\n",
      "530       0     0              1       1             3         6     4             2            2\n",
      "135       2     2              1       1             1         3     4             0            3\n",
      "298       0     0              0       1             4         4     3             0            3\n",
      "..      ...   ...            ...     ...           ...       ...   ...           ...          ...\n",
      "455       1     1              0       0             1         5     3             0            2\n",
      "743       0     0              0       1             4         2     3             2            1\n",
      "785       0     0              1       1             0         7     3             1            6\n",
      "380       0     0              0       1             5         4     2             1            4\n",
      "564       1     1              1       1             1         2     3             0            2\n",
      "\n",
      "[173 rows x 9 columns]\n",
      "    Rating_Cat\n",
      "161          2\n",
      "22           2\n",
      "530          2\n",
      "135          2\n",
      "298          2\n",
      "..         ...\n",
      "455          2\n",
      "743          3\n",
      "785          3\n",
      "380          2\n",
      "564          3\n",
      "\n",
      "[173 rows x 1 columns]\n"
     ]
    }
   ],
   "source": [
    "print(X_train)\n",
    "print(y_train)\n",
    "print(X_test)\n",
    "print(y_test)"
   ]
  }
 ],
 "metadata": {
  "kernelspec": {
   "display_name": "Python 3",
   "language": "python",
   "name": "python3"
  },
  "language_info": {
   "codemirror_mode": {
    "name": "ipython",
    "version": 3
   },
   "file_extension": ".py",
   "mimetype": "text/x-python",
   "name": "python",
   "nbconvert_exporter": "python",
   "pygments_lexer": "ipython3",
   "version": "3.8.8"
  }
 },
 "nbformat": 4,
 "nbformat_minor": 5
}
